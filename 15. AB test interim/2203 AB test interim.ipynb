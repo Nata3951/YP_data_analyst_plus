{
 "cells": [
  {
   "cell_type": "code",
   "execution_count": 1,
   "metadata": {},
   "outputs": [],
   "source": [
    "import pandas as pd\n",
    "import scipy.stats as stats\n",
    "import datetime as dt\n",
    "import numpy as np\n",
    "import matplotlib.pyplot as plt\n",
    "from pandas.plotting import register_matplotlib_converters\n",
    "register_matplotlib_converters()\n",
    "\n",
    "%config InlineBackend.figure_format = 'retina'"
   ]
  },
  {
   "cell_type": "markdown",
   "metadata": {},
   "source": [
    "## Описание проекта"
   ]
  },
  {
   "cell_type": "markdown",
   "metadata": {},
   "source": [
    "Имеется список гипотез для увеличения выручки.\n",
    "\n",
    "Необходимо \n",
    "1. приоритизировать гипотезы, \n",
    "1. запустить A/B-тест,\n",
    "1. проанализировать результаты."
   ]
  },
  {
   "cell_type": "markdown",
   "metadata": {},
   "source": [
    "### Описание данных"
   ]
  },
  {
   "cell_type": "markdown",
   "metadata": {},
   "source": [
    "#### Ideas\n",
    "- Hypothesis — краткое описание гипотезы;\n",
    "- Reach — охват пользователей по 10-балльной шкале;\n",
    "- Impact — влияние на пользователей по 10-балльной шкале;\n",
    "- Confidence — уверенность в гипотезе по 10-балльной шкале;\n",
    "- Efforts — затраты ресурсов на проверку гипотезы по 10-балльной шкале. Чем больше значение Efforts, тем дороже проверка гипотезы.\n",
    "\n",
    "#### Orders\n",
    "- transactionId — идентификатор заказа;\n",
    "- visitorId — идентификатор пользователя, совершившего заказ;\n",
    "- date — дата, когда был совершён заказ;\n",
    "- revenue — выручка заказа;\n",
    "- group — группа A/B-теста, в которую попал заказ.\n",
    "\n",
    "#### Visitors\n",
    "\n",
    "- date — дата;\n",
    "- group — группа A/B-теста;\n",
    "- visitors — количество пользователей в указанную дату в указанной группе A/B-теста"
   ]
  },
  {
   "cell_type": "markdown",
   "metadata": {},
   "source": [
    "## Приоритизация гипотез."
   ]
  },
  {
   "cell_type": "markdown",
   "metadata": {},
   "source": [
    "Применим фреймворки ICE и RICE, отсортируем по RICE, подсветим рейтинги каждой гипотезы"
   ]
  },
  {
   "cell_type": "markdown",
   "metadata": {},
   "source": [
    "$$ICE = \\frac{Impact * Confidence}{Efforts}$$\n",
    "\n",
    "$$RICE = \\frac{Rearch * Impact * Confidence}{Efforts}$$"
   ]
  },
  {
   "cell_type": "code",
   "execution_count": 2,
   "metadata": {},
   "outputs": [
    {
     "data": {
      "text/html": [
       "<style  type=\"text/css\" >\n",
       "#T_4e51d_row0_col5{\n",
       "            background-color:  #f2625d;\n",
       "            color:  #000000;\n",
       "        }#T_4e51d_row0_col6,#T_4e51d_row4_col5{\n",
       "            background-color:  #fcfdbf;\n",
       "            color:  #000000;\n",
       "        }#T_4e51d_row1_col5{\n",
       "            background-color:  #8b2981;\n",
       "            color:  #f1f1f1;\n",
       "        }#T_4e51d_row1_col6{\n",
       "            background-color:  #b0357b;\n",
       "            color:  #f1f1f1;\n",
       "        }#T_4e51d_row2_col5{\n",
       "            background-color:  #a5317e;\n",
       "            color:  #f1f1f1;\n",
       "        }#T_4e51d_row2_col6,#T_4e51d_row3_col6{\n",
       "            background-color:  #732081;\n",
       "            color:  #f1f1f1;\n",
       "        }#T_4e51d_row3_col5{\n",
       "            background-color:  #fea571;\n",
       "            color:  #000000;\n",
       "        }#T_4e51d_row4_col6{\n",
       "            background-color:  #1c1044;\n",
       "            color:  #f1f1f1;\n",
       "        }#T_4e51d_row5_col5{\n",
       "            background-color:  #010005;\n",
       "            color:  #f1f1f1;\n",
       "        }#T_4e51d_row5_col6{\n",
       "            background-color:  #07061c;\n",
       "            color:  #f1f1f1;\n",
       "        }#T_4e51d_row6_col5{\n",
       "            background-color:  #0a0822;\n",
       "            color:  #f1f1f1;\n",
       "        }#T_4e51d_row6_col6,#T_4e51d_row7_col6{\n",
       "            background-color:  #010106;\n",
       "            color:  #f1f1f1;\n",
       "        }#T_4e51d_row7_col5{\n",
       "            background-color:  #02020b;\n",
       "            color:  #f1f1f1;\n",
       "        }#T_4e51d_row8_col5,#T_4e51d_row8_col6{\n",
       "            background-color:  #000004;\n",
       "            color:  #f1f1f1;\n",
       "        }</style><table id=\"T_4e51d_\" ><thead>    <tr>        <th class=\"blank level0\" ></th>        <th class=\"col_heading level0 col0\" >Hypothesis</th>        <th class=\"col_heading level0 col1\" >Reach</th>        <th class=\"col_heading level0 col2\" >Impact</th>        <th class=\"col_heading level0 col3\" >Confidence</th>        <th class=\"col_heading level0 col4\" >Efforts</th>        <th class=\"col_heading level0 col5\" >ICE</th>        <th class=\"col_heading level0 col6\" >RICE</th>    </tr></thead><tbody>\n",
       "                <tr>\n",
       "                        <th id=\"T_4e51d_level0_row0\" class=\"row_heading level0 row0\" >7</th>\n",
       "                        <td id=\"T_4e51d_row0_col0\" class=\"data row0 col0\" >Добавить форму подписки на все основные страницы, чтобы собрать базу клиентов для email-рассылок</td>\n",
       "                        <td id=\"T_4e51d_row0_col1\" class=\"data row0 col1\" >10</td>\n",
       "                        <td id=\"T_4e51d_row0_col2\" class=\"data row0 col2\" >7</td>\n",
       "                        <td id=\"T_4e51d_row0_col3\" class=\"data row0 col3\" >8</td>\n",
       "                        <td id=\"T_4e51d_row0_col4\" class=\"data row0 col4\" >5</td>\n",
       "                        <td id=\"T_4e51d_row0_col5\" class=\"data row0 col5\" >11.200000</td>\n",
       "                        <td id=\"T_4e51d_row0_col6\" class=\"data row0 col6\" >112.000000</td>\n",
       "            </tr>\n",
       "            <tr>\n",
       "                        <th id=\"T_4e51d_level0_row1\" class=\"row_heading level0 row1\" >2</th>\n",
       "                        <td id=\"T_4e51d_row1_col0\" class=\"data row1 col0\" >Добавить блоки рекомендаций товаров на сайт интернет магазина, чтобы повысить конверсию и средний чек заказа</td>\n",
       "                        <td id=\"T_4e51d_row1_col1\" class=\"data row1 col1\" >8</td>\n",
       "                        <td id=\"T_4e51d_row1_col2\" class=\"data row1 col2\" >3</td>\n",
       "                        <td id=\"T_4e51d_row1_col3\" class=\"data row1 col3\" >7</td>\n",
       "                        <td id=\"T_4e51d_row1_col4\" class=\"data row1 col4\" >3</td>\n",
       "                        <td id=\"T_4e51d_row1_col5\" class=\"data row1 col5\" >7.000000</td>\n",
       "                        <td id=\"T_4e51d_row1_col6\" class=\"data row1 col6\" >56.000000</td>\n",
       "            </tr>\n",
       "            <tr>\n",
       "                        <th id=\"T_4e51d_level0_row2\" class=\"row_heading level0 row2\" >6</th>\n",
       "                        <td id=\"T_4e51d_row2_col0\" class=\"data row2 col0\" >Показать на главной странице баннеры с актуальными акциями и распродажами, чтобы увеличить конверсию</td>\n",
       "                        <td id=\"T_4e51d_row2_col1\" class=\"data row2 col1\" >5</td>\n",
       "                        <td id=\"T_4e51d_row2_col2\" class=\"data row2 col2\" >3</td>\n",
       "                        <td id=\"T_4e51d_row2_col3\" class=\"data row2 col3\" >8</td>\n",
       "                        <td id=\"T_4e51d_row2_col4\" class=\"data row2 col4\" >3</td>\n",
       "                        <td id=\"T_4e51d_row2_col5\" class=\"data row2 col5\" >8.000000</td>\n",
       "                        <td id=\"T_4e51d_row2_col6\" class=\"data row2 col6\" >40.000000</td>\n",
       "            </tr>\n",
       "            <tr>\n",
       "                        <th id=\"T_4e51d_level0_row3\" class=\"row_heading level0 row3\" >0</th>\n",
       "                        <td id=\"T_4e51d_row3_col0\" class=\"data row3 col0\" >Добавить два новых канала привлечения трафика, что позволит привлекать на 30% больше пользователей</td>\n",
       "                        <td id=\"T_4e51d_row3_col1\" class=\"data row3 col1\" >3</td>\n",
       "                        <td id=\"T_4e51d_row3_col2\" class=\"data row3 col2\" >10</td>\n",
       "                        <td id=\"T_4e51d_row3_col3\" class=\"data row3 col3\" >8</td>\n",
       "                        <td id=\"T_4e51d_row3_col4\" class=\"data row3 col4\" >6</td>\n",
       "                        <td id=\"T_4e51d_row3_col5\" class=\"data row3 col5\" >13.300000</td>\n",
       "                        <td id=\"T_4e51d_row3_col6\" class=\"data row3 col6\" >39.900000</td>\n",
       "            </tr>\n",
       "            <tr>\n",
       "                        <th id=\"T_4e51d_level0_row4\" class=\"row_heading level0 row4\" >8</th>\n",
       "                        <td id=\"T_4e51d_row4_col0\" class=\"data row4 col0\" >Запустить акцию, дающую скидку на товар в день рождения</td>\n",
       "                        <td id=\"T_4e51d_row4_col1\" class=\"data row4 col1\" >1</td>\n",
       "                        <td id=\"T_4e51d_row4_col2\" class=\"data row4 col2\" >9</td>\n",
       "                        <td id=\"T_4e51d_row4_col3\" class=\"data row4 col3\" >9</td>\n",
       "                        <td id=\"T_4e51d_row4_col4\" class=\"data row4 col4\" >5</td>\n",
       "                        <td id=\"T_4e51d_row4_col5\" class=\"data row4 col5\" >16.200000</td>\n",
       "                        <td id=\"T_4e51d_row4_col6\" class=\"data row4 col6\" >16.200000</td>\n",
       "            </tr>\n",
       "            <tr>\n",
       "                        <th id=\"T_4e51d_level0_row5\" class=\"row_heading level0 row5\" >3</th>\n",
       "                        <td id=\"T_4e51d_row5_col0\" class=\"data row5 col0\" >Изменить структура категорий, что увеличит конверсию, т.к. пользователи быстрее найдут нужный товар</td>\n",
       "                        <td id=\"T_4e51d_row5_col1\" class=\"data row5 col1\" >8</td>\n",
       "                        <td id=\"T_4e51d_row5_col2\" class=\"data row5 col2\" >3</td>\n",
       "                        <td id=\"T_4e51d_row5_col3\" class=\"data row5 col3\" >3</td>\n",
       "                        <td id=\"T_4e51d_row5_col4\" class=\"data row5 col4\" >8</td>\n",
       "                        <td id=\"T_4e51d_row5_col5\" class=\"data row5 col5\" >1.100000</td>\n",
       "                        <td id=\"T_4e51d_row5_col6\" class=\"data row5 col6\" >8.800000</td>\n",
       "            </tr>\n",
       "            <tr>\n",
       "                        <th id=\"T_4e51d_level0_row6\" class=\"row_heading level0 row6\" >1</th>\n",
       "                        <td id=\"T_4e51d_row6_col0\" class=\"data row6 col0\" >Запустить собственную службу доставки, что сократит срок доставки заказов</td>\n",
       "                        <td id=\"T_4e51d_row6_col1\" class=\"data row6 col1\" >2</td>\n",
       "                        <td id=\"T_4e51d_row6_col2\" class=\"data row6 col2\" >5</td>\n",
       "                        <td id=\"T_4e51d_row6_col3\" class=\"data row6 col3\" >4</td>\n",
       "                        <td id=\"T_4e51d_row6_col4\" class=\"data row6 col4\" >10</td>\n",
       "                        <td id=\"T_4e51d_row6_col5\" class=\"data row6 col5\" >2.000000</td>\n",
       "                        <td id=\"T_4e51d_row6_col6\" class=\"data row6 col6\" >4.000000</td>\n",
       "            </tr>\n",
       "            <tr>\n",
       "                        <th id=\"T_4e51d_level0_row7\" class=\"row_heading level0 row7\" >5</th>\n",
       "                        <td id=\"T_4e51d_row7_col0\" class=\"data row7 col0\" >Добавить страницу отзывов клиентов о магазине, что позволит увеличить количество заказов</td>\n",
       "                        <td id=\"T_4e51d_row7_col1\" class=\"data row7 col1\" >3</td>\n",
       "                        <td id=\"T_4e51d_row7_col2\" class=\"data row7 col2\" >2</td>\n",
       "                        <td id=\"T_4e51d_row7_col3\" class=\"data row7 col3\" >2</td>\n",
       "                        <td id=\"T_4e51d_row7_col4\" class=\"data row7 col4\" >3</td>\n",
       "                        <td id=\"T_4e51d_row7_col5\" class=\"data row7 col5\" >1.300000</td>\n",
       "                        <td id=\"T_4e51d_row7_col6\" class=\"data row7 col6\" >3.900000</td>\n",
       "            </tr>\n",
       "            <tr>\n",
       "                        <th id=\"T_4e51d_level0_row8\" class=\"row_heading level0 row8\" >4</th>\n",
       "                        <td id=\"T_4e51d_row8_col0\" class=\"data row8 col0\" >Изменить цвет фона главной страницы, чтобы увеличить вовлеченность пользователей</td>\n",
       "                        <td id=\"T_4e51d_row8_col1\" class=\"data row8 col1\" >3</td>\n",
       "                        <td id=\"T_4e51d_row8_col2\" class=\"data row8 col2\" >1</td>\n",
       "                        <td id=\"T_4e51d_row8_col3\" class=\"data row8 col3\" >1</td>\n",
       "                        <td id=\"T_4e51d_row8_col4\" class=\"data row8 col4\" >1</td>\n",
       "                        <td id=\"T_4e51d_row8_col5\" class=\"data row8 col5\" >1.000000</td>\n",
       "                        <td id=\"T_4e51d_row8_col6\" class=\"data row8 col6\" >3.000000</td>\n",
       "            </tr>\n",
       "    </tbody></table>"
      ],
      "text/plain": [
       "<pandas.io.formats.style.Styler at 0x7f5d8c290910>"
      ]
     },
     "execution_count": 2,
     "metadata": {},
     "output_type": "execute_result"
    }
   ],
   "source": [
    "ideas = (\n",
    "    pd.read_csv('/datasets/hypothesis.csv')\n",
    "    .assign (ICE = lambda x: (x['Impact'] * x['Confidence'] / x['Efforts']).round(1))\n",
    "    .assign (RICE = lambda x: (x['ICE'] * x['Reach']))\n",
    "    .sort_values('RICE', ascending = False)\n",
    "    .style.background_gradient(cmap='magma', subset = ['ICE', 'RICE'])\n",
    ")\n",
    "\n",
    "ideas"
   ]
  },
  {
   "cell_type": "markdown",
   "metadata": {},
   "source": [
    "Приоритизация изменилась, т.к. параметр Reach оказал существенное влияние."
   ]
  },
  {
   "cell_type": "markdown",
   "metadata": {},
   "source": [
    "## Проверка результатов А/В теста"
   ]
  },
  {
   "cell_type": "markdown",
   "metadata": {},
   "source": [
    "загрузим данные, приведем столбцы с датами к корректному формату, просмотрим выборочно строки"
   ]
  },
  {
   "cell_type": "code",
   "execution_count": 3,
   "metadata": {},
   "outputs": [],
   "source": [
    "orders = pd.read_csv('/datasets/orders.csv')\n",
    "visitors = pd.read_csv('/datasets/visitors.csv')"
   ]
  },
  {
   "cell_type": "code",
   "execution_count": 4,
   "metadata": {},
   "outputs": [
    {
     "name": "stdout",
     "output_type": "stream",
     "text": [
      "-------------------------\n",
      "<class 'pandas.core.frame.DataFrame'>\n",
      "RangeIndex: 1197 entries, 0 to 1196\n",
      "Data columns (total 5 columns):\n",
      " #   Column         Non-Null Count  Dtype         \n",
      "---  ------         --------------  -----         \n",
      " 0   transactionId  1197 non-null   int64         \n",
      " 1   visitorId      1197 non-null   int64         \n",
      " 2   date           1197 non-null   datetime64[ns]\n",
      " 3   revenue        1197 non-null   int64         \n",
      " 4   group          1197 non-null   object        \n",
      "dtypes: datetime64[ns](1), int64(3), object(1)\n",
      "memory usage: 46.9+ KB\n"
     ]
    },
    {
     "data": {
      "text/plain": [
       "None"
      ]
     },
     "metadata": {},
     "output_type": "display_data"
    },
    {
     "data": {
      "text/html": [
       "<div>\n",
       "<style scoped>\n",
       "    .dataframe tbody tr th:only-of-type {\n",
       "        vertical-align: middle;\n",
       "    }\n",
       "\n",
       "    .dataframe tbody tr th {\n",
       "        vertical-align: top;\n",
       "    }\n",
       "\n",
       "    .dataframe thead th {\n",
       "        text-align: right;\n",
       "    }\n",
       "</style>\n",
       "<table border=\"1\" class=\"dataframe\">\n",
       "  <thead>\n",
       "    <tr style=\"text-align: right;\">\n",
       "      <th></th>\n",
       "      <th>transactionId</th>\n",
       "      <th>visitorId</th>\n",
       "      <th>date</th>\n",
       "      <th>revenue</th>\n",
       "      <th>group</th>\n",
       "    </tr>\n",
       "  </thead>\n",
       "  <tbody>\n",
       "    <tr>\n",
       "      <th>1044</th>\n",
       "      <td>1814628689</td>\n",
       "      <td>1404934699</td>\n",
       "      <td>2019-08-11</td>\n",
       "      <td>8640</td>\n",
       "      <td>A</td>\n",
       "    </tr>\n",
       "    <tr>\n",
       "      <th>811</th>\n",
       "      <td>3278896715</td>\n",
       "      <td>3451176495</td>\n",
       "      <td>2019-08-21</td>\n",
       "      <td>1540</td>\n",
       "      <td>A</td>\n",
       "    </tr>\n",
       "    <tr>\n",
       "      <th>86</th>\n",
       "      <td>4130553949</td>\n",
       "      <td>3736064128</td>\n",
       "      <td>2019-08-22</td>\n",
       "      <td>1290</td>\n",
       "      <td>A</td>\n",
       "    </tr>\n",
       "    <tr>\n",
       "      <th>686</th>\n",
       "      <td>1573514293</td>\n",
       "      <td>3148168974</td>\n",
       "      <td>2019-08-29</td>\n",
       "      <td>5150</td>\n",
       "      <td>B</td>\n",
       "    </tr>\n",
       "    <tr>\n",
       "      <th>412</th>\n",
       "      <td>2100491088</td>\n",
       "      <td>1147554328</td>\n",
       "      <td>2019-08-06</td>\n",
       "      <td>990</td>\n",
       "      <td>B</td>\n",
       "    </tr>\n",
       "  </tbody>\n",
       "</table>\n",
       "</div>"
      ],
      "text/plain": [
       "      transactionId   visitorId       date  revenue group\n",
       "1044     1814628689  1404934699 2019-08-11     8640     A\n",
       "811      3278896715  3451176495 2019-08-21     1540     A\n",
       "86       4130553949  3736064128 2019-08-22     1290     A\n",
       "686      1573514293  3148168974 2019-08-29     5150     B\n",
       "412      2100491088  1147554328 2019-08-06      990     B"
      ]
     },
     "metadata": {},
     "output_type": "display_data"
    },
    {
     "name": "stdout",
     "output_type": "stream",
     "text": [
      "-------------------------\n",
      "<class 'pandas.core.frame.DataFrame'>\n",
      "RangeIndex: 62 entries, 0 to 61\n",
      "Data columns (total 3 columns):\n",
      " #   Column    Non-Null Count  Dtype         \n",
      "---  ------    --------------  -----         \n",
      " 0   date      62 non-null     datetime64[ns]\n",
      " 1   group     62 non-null     object        \n",
      " 2   visitors  62 non-null     int64         \n",
      "dtypes: datetime64[ns](1), int64(1), object(1)\n",
      "memory usage: 1.6+ KB\n"
     ]
    },
    {
     "data": {
      "text/plain": [
       "None"
      ]
     },
     "metadata": {},
     "output_type": "display_data"
    },
    {
     "data": {
      "text/html": [
       "<div>\n",
       "<style scoped>\n",
       "    .dataframe tbody tr th:only-of-type {\n",
       "        vertical-align: middle;\n",
       "    }\n",
       "\n",
       "    .dataframe tbody tr th {\n",
       "        vertical-align: top;\n",
       "    }\n",
       "\n",
       "    .dataframe thead th {\n",
       "        text-align: right;\n",
       "    }\n",
       "</style>\n",
       "<table border=\"1\" class=\"dataframe\">\n",
       "  <thead>\n",
       "    <tr style=\"text-align: right;\">\n",
       "      <th></th>\n",
       "      <th>date</th>\n",
       "      <th>group</th>\n",
       "      <th>visitors</th>\n",
       "    </tr>\n",
       "  </thead>\n",
       "  <tbody>\n",
       "    <tr>\n",
       "      <th>30</th>\n",
       "      <td>2019-08-31</td>\n",
       "      <td>A</td>\n",
       "      <td>699</td>\n",
       "    </tr>\n",
       "    <tr>\n",
       "      <th>0</th>\n",
       "      <td>2019-08-01</td>\n",
       "      <td>A</td>\n",
       "      <td>719</td>\n",
       "    </tr>\n",
       "    <tr>\n",
       "      <th>3</th>\n",
       "      <td>2019-08-04</td>\n",
       "      <td>A</td>\n",
       "      <td>717</td>\n",
       "    </tr>\n",
       "    <tr>\n",
       "      <th>22</th>\n",
       "      <td>2019-08-23</td>\n",
       "      <td>A</td>\n",
       "      <td>468</td>\n",
       "    </tr>\n",
       "    <tr>\n",
       "      <th>2</th>\n",
       "      <td>2019-08-03</td>\n",
       "      <td>A</td>\n",
       "      <td>507</td>\n",
       "    </tr>\n",
       "  </tbody>\n",
       "</table>\n",
       "</div>"
      ],
      "text/plain": [
       "         date group  visitors\n",
       "30 2019-08-31     A       699\n",
       "0  2019-08-01     A       719\n",
       "3  2019-08-04     A       717\n",
       "22 2019-08-23     A       468\n",
       "2  2019-08-03     A       507"
      ]
     },
     "metadata": {},
     "output_type": "display_data"
    }
   ],
   "source": [
    "for i in [orders, visitors]: \n",
    "    print ('-------------------------')\n",
    "    i['date'] = i['date'].map(\n",
    "        lambda x: dt.datetime.strptime(x, '%Y-%m-%d'))\n",
    "\n",
    "    display (i.info())\n",
    "    display (i.sample(5))"
   ]
  },
  {
   "cell_type": "code",
   "execution_count": 5,
   "metadata": {},
   "outputs": [
    {
     "data": {
      "text/html": [
       "<div>\n",
       "<style scoped>\n",
       "    .dataframe tbody tr th:only-of-type {\n",
       "        vertical-align: middle;\n",
       "    }\n",
       "\n",
       "    .dataframe tbody tr th {\n",
       "        vertical-align: top;\n",
       "    }\n",
       "\n",
       "    .dataframe thead th {\n",
       "        text-align: right;\n",
       "    }\n",
       "</style>\n",
       "<table border=\"1\" class=\"dataframe\">\n",
       "  <thead>\n",
       "    <tr style=\"text-align: right;\">\n",
       "      <th></th>\n",
       "      <th>orderId</th>\n",
       "      <th>userId</th>\n",
       "      <th>date</th>\n",
       "      <th>revenue</th>\n",
       "      <th>group</th>\n",
       "    </tr>\n",
       "  </thead>\n",
       "  <tbody>\n",
       "    <tr>\n",
       "      <th>0</th>\n",
       "      <td>3667963787</td>\n",
       "      <td>3312258926</td>\n",
       "      <td>2019-08-15</td>\n",
       "      <td>1650</td>\n",
       "      <td>B</td>\n",
       "    </tr>\n",
       "    <tr>\n",
       "      <th>1</th>\n",
       "      <td>2804400009</td>\n",
       "      <td>3642806036</td>\n",
       "      <td>2019-08-15</td>\n",
       "      <td>730</td>\n",
       "      <td>B</td>\n",
       "    </tr>\n",
       "    <tr>\n",
       "      <th>2</th>\n",
       "      <td>2961555356</td>\n",
       "      <td>4069496402</td>\n",
       "      <td>2019-08-15</td>\n",
       "      <td>400</td>\n",
       "      <td>A</td>\n",
       "    </tr>\n",
       "    <tr>\n",
       "      <th>3</th>\n",
       "      <td>3797467345</td>\n",
       "      <td>1196621759</td>\n",
       "      <td>2019-08-15</td>\n",
       "      <td>9759</td>\n",
       "      <td>B</td>\n",
       "    </tr>\n",
       "    <tr>\n",
       "      <th>4</th>\n",
       "      <td>2282983706</td>\n",
       "      <td>2322279887</td>\n",
       "      <td>2019-08-15</td>\n",
       "      <td>2308</td>\n",
       "      <td>B</td>\n",
       "    </tr>\n",
       "  </tbody>\n",
       "</table>\n",
       "</div>"
      ],
      "text/plain": [
       "      orderId      userId       date  revenue group\n",
       "0  3667963787  3312258926 2019-08-15     1650     B\n",
       "1  2804400009  3642806036 2019-08-15      730     B\n",
       "2  2961555356  4069496402 2019-08-15      400     A\n",
       "3  3797467345  1196621759 2019-08-15     9759     B\n",
       "4  2282983706  2322279887 2019-08-15     2308     B"
      ]
     },
     "execution_count": 5,
     "metadata": {},
     "output_type": "execute_result"
    }
   ],
   "source": [
    "# переименуем transactionId в orderId, visitorID в 'userId' для удобства использования готового кода\n",
    "orders.rename(columns={'transactionId':'orderId', 'visitorId':'userId'}, inplace=True)\n",
    "orders.head()"
   ]
  },
  {
   "cell_type": "markdown",
   "metadata": {},
   "source": [
    "### Проверим расчетные параметры для А/В теста"
   ]
  },
  {
   "cell_type": "markdown",
   "metadata": {},
   "source": [
    "Мы можем проверить только размер выборки, т.к. для проверки длительности теста не хватает данных обо всех посетителях сайта и какую долю от них составляют участники А/В теста\n",
    "\n",
    "Предположу, что исходная конверсия порядка 3.5% (согласно расчету далее для задания \"постройте график кумулятивной конверсии\", и соответственно нам важно выявить разницу с точностью до 15% (относительно). Необходимый размер выборки для такой точности - 19646 на человек на вариацию (согласно калькулятору на сайте https://www.evanmiller.org/ab-testing/sample-size.html). Наша выборка примерно соответствует необходимой."
   ]
  },
  {
   "cell_type": "code",
   "execution_count": 6,
   "metadata": {},
   "outputs": [
    {
     "data": {
      "text/html": [
       "<div>\n",
       "<style scoped>\n",
       "    .dataframe tbody tr th:only-of-type {\n",
       "        vertical-align: middle;\n",
       "    }\n",
       "\n",
       "    .dataframe tbody tr th {\n",
       "        vertical-align: top;\n",
       "    }\n",
       "\n",
       "    .dataframe thead th {\n",
       "        text-align: right;\n",
       "    }\n",
       "</style>\n",
       "<table border=\"1\" class=\"dataframe\">\n",
       "  <thead>\n",
       "    <tr style=\"text-align: right;\">\n",
       "      <th></th>\n",
       "      <th>visitors</th>\n",
       "    </tr>\n",
       "    <tr>\n",
       "      <th>group</th>\n",
       "      <th></th>\n",
       "    </tr>\n",
       "  </thead>\n",
       "  <tbody>\n",
       "    <tr>\n",
       "      <th>A</th>\n",
       "      <td>18736</td>\n",
       "    </tr>\n",
       "    <tr>\n",
       "      <th>B</th>\n",
       "      <td>18916</td>\n",
       "    </tr>\n",
       "  </tbody>\n",
       "</table>\n",
       "</div>"
      ],
      "text/plain": [
       "       visitors\n",
       "group          \n",
       "A         18736\n",
       "B         18916"
      ]
     },
     "execution_count": 6,
     "metadata": {},
     "output_type": "execute_result"
    }
   ],
   "source": [
    "visitors.groupby('group').agg({'visitors':'sum'})"
   ]
  },
  {
   "cell_type": "code",
   "execution_count": 7,
   "metadata": {},
   "outputs": [
    {
     "data": {
      "text/html": [
       "<div>\n",
       "<style scoped>\n",
       "    .dataframe tbody tr th:only-of-type {\n",
       "        vertical-align: middle;\n",
       "    }\n",
       "\n",
       "    .dataframe tbody tr th {\n",
       "        vertical-align: top;\n",
       "    }\n",
       "\n",
       "    .dataframe thead th {\n",
       "        text-align: right;\n",
       "    }\n",
       "</style>\n",
       "<table border=\"1\" class=\"dataframe\">\n",
       "  <thead>\n",
       "    <tr style=\"text-align: right;\">\n",
       "      <th>group</th>\n",
       "      <th>A</th>\n",
       "      <th>B</th>\n",
       "      <th>AB</th>\n",
       "    </tr>\n",
       "    <tr>\n",
       "      <th>userId</th>\n",
       "      <th></th>\n",
       "      <th></th>\n",
       "      <th></th>\n",
       "    </tr>\n",
       "  </thead>\n",
       "  <tbody>\n",
       "    <tr>\n",
       "      <th>4256040402</th>\n",
       "      <td>7.0</td>\n",
       "      <td>4.0</td>\n",
       "      <td>11.0</td>\n",
       "    </tr>\n",
       "    <tr>\n",
       "      <th>2458001652</th>\n",
       "      <td>5.0</td>\n",
       "      <td>6.0</td>\n",
       "      <td>11.0</td>\n",
       "    </tr>\n",
       "    <tr>\n",
       "      <th>2378935119</th>\n",
       "      <td>4.0</td>\n",
       "      <td>5.0</td>\n",
       "      <td>9.0</td>\n",
       "    </tr>\n",
       "    <tr>\n",
       "      <th>2038680547</th>\n",
       "      <td>5.0</td>\n",
       "      <td>3.0</td>\n",
       "      <td>8.0</td>\n",
       "    </tr>\n",
       "    <tr>\n",
       "      <th>1230306981</th>\n",
       "      <td>3.0</td>\n",
       "      <td>2.0</td>\n",
       "      <td>5.0</td>\n",
       "    </tr>\n",
       "  </tbody>\n",
       "</table>\n",
       "</div>"
      ],
      "text/plain": [
       "group         A    B    AB\n",
       "userId                    \n",
       "4256040402  7.0  4.0  11.0\n",
       "2458001652  5.0  6.0  11.0\n",
       "2378935119  4.0  5.0   9.0\n",
       "2038680547  5.0  3.0   8.0\n",
       "1230306981  3.0  2.0   5.0"
      ]
     },
     "metadata": {},
     "output_type": "display_data"
    }
   ],
   "source": [
    "dupl_users = (\n",
    "    orders\n",
    "    .pivot_table (\n",
    "        index = 'userId',\n",
    "        columns = 'group',\n",
    "        values = 'orderId',\n",
    "        aggfunc = 'nunique'\n",
    "    )\n",
    "    .query('not A.isna() and not B.isna()')\n",
    "    .assign (AB = lambda x: x['A'] + x['B']).sort_values(by='AB', ascending=False)\n",
    ")\n",
    "\n",
    "display (dupl_users.head(5))"
   ]
  },
  {
   "cell_type": "markdown",
   "metadata": {},
   "source": [
    "Интересно, что среди этих пользователей много тех, кто сделал больше 2 покупок и мы их в любом случае отбросим как пользователей с большим коичеством заказов. Посчитаю, сколько пользователей нужно будет отбросить с учетом будущей очистки данных"
   ]
  },
  {
   "cell_type": "code",
   "execution_count": 8,
   "metadata": {},
   "outputs": [
    {
     "data": {
      "text/plain": [
       "3.0     10\n",
       "2.0     35\n",
       "5.0      6\n",
       "11.0     2\n",
       "4.0      3\n",
       "8.0      1\n",
       "9.0      1\n",
       "Name: AB, dtype: int64"
      ]
     },
     "execution_count": 8,
     "metadata": {},
     "output_type": "execute_result"
    }
   ],
   "source": [
    "dupl_users['AB'].value_counts(sort=False)"
   ]
  },
  {
   "cell_type": "code",
   "execution_count": 9,
   "metadata": {},
   "outputs": [
    {
     "name": "stdout",
     "output_type": "stream",
     "text": [
      "35 пользователей попавших в обе группы, нужно отбросить\n",
      "3.39% - процент от общего количества пользователей, сделавших покупки\n"
     ]
    }
   ],
   "source": [
    "to_clean = dupl_users.query('AB < 3')['A'].count()\n",
    "print (to_clean, 'пользователей попавших в обе группы, нужно отбросить')\n",
    "print ('{:.2%}'.format(to_clean / orders['userId'].nunique()), '- процент от общего количества пользователей, сделавших покупки')"
   ]
  },
  {
   "cell_type": "markdown",
   "metadata": {},
   "source": [
    "Удалим их из общего набора:"
   ]
  },
  {
   "cell_type": "code",
   "execution_count": 10,
   "metadata": {},
   "outputs": [
    {
     "name": "stdout",
     "output_type": "stream",
     "text": [
      "1031\n",
      "973\n"
     ]
    }
   ],
   "source": [
    "print (orders['userId'].nunique())\n",
    "\n",
    "orders = orders.query('userId not in @dupl_users.index')\n",
    "\n",
    "print (orders['userId'].nunique())"
   ]
  },
  {
   "cell_type": "markdown",
   "metadata": {},
   "source": [
    "### Задания:"
   ]
  },
  {
   "cell_type": "markdown",
   "metadata": {},
   "source": [
    "#### Постройте график кумулятивной выручки по группам. Сделайте выводы и предположения."
   ]
  },
  {
   "cell_type": "markdown",
   "metadata": {},
   "source": [
    "воспользуемся кодом из уроков, чтобы агрегировать и подготовить данные"
   ]
  },
  {
   "cell_type": "code",
   "execution_count": 11,
   "metadata": {},
   "outputs": [
    {
     "name": "stdout",
     "output_type": "stream",
     "text": [
      "        date group  orders  buyers  revenue  visitors\n",
      "0 2019-08-01     A      23      19   142779       719\n",
      "1 2019-08-01     B      17      17    59758       713\n",
      "2 2019-08-02     A      42      36   234381      1338\n",
      "3 2019-08-02     B      40      39   221801      1294\n",
      "4 2019-08-03     A      66      60   346854      1845\n"
     ]
    }
   ],
   "source": [
    "# создаем массив уникальных пар значений дат и групп теста\n",
    "datesGroups = orders[['date','group']].drop_duplicates()\n",
    "\n",
    "# получаем агрегированные кумулятивные по дням данные о заказах \n",
    "ordersAggregated = datesGroups.apply(lambda x: orders[np.logical_and(orders['date'] <= x['date'], orders['group'] == x['group'])].agg({'date' : 'max', 'group' : 'max', 'orderId' : 'nunique', 'userId' : 'nunique', 'revenue' : 'sum'}), axis=1).sort_values(by=['date','group'])\n",
    "\n",
    "# получаем агрегированные кумулятивные по дням данные о посетителях интернет-магазина \n",
    "visitorsAggregated = datesGroups.apply(lambda x: visitors[np.logical_and(visitors['date'] <= x['date'], visitors['group'] == x['group'])].agg({'date' : 'max', 'group' : 'max', 'visitors' : 'sum'}), axis=1).sort_values(by=['date','group'])\n",
    "\n",
    "# объединяем кумулятивные данные в одной таблице и присваиваем ее столбцам понятные названия\n",
    "cumulativeData = ordersAggregated.merge(visitorsAggregated, left_on=['date', 'group'], right_on=['date', 'group'])\n",
    "cumulativeData.columns = ['date', 'group', 'orders', 'buyers', 'revenue', 'visitors']\n",
    "\n",
    "print(cumulativeData.head(5))"
   ]
  },
  {
   "cell_type": "markdown",
   "metadata": {},
   "source": [
    "Построим графики кумулятивной выручки по дням и группам A/B-тестирования"
   ]
  },
  {
   "cell_type": "code",
   "execution_count": 12,
   "metadata": {},
   "outputs": [
    {
     "data": {
      "text/plain": [
       "''"
      ]
     },
     "execution_count": 12,
     "metadata": {},
     "output_type": "execute_result"
    },
    {
     "data": {
      "image/png": "[encoded data removed]",
      "text/plain": [
       "<Figure size 864x288 with 1 Axes>"
      ]
     },
     "metadata": {
      "image/png": {
       "height": 306,
       "width": 716
      },
      "needs_background": "light"
     },
     "output_type": "display_data"
    }
   ],
   "source": [
    "# датафрейм с кумулятивным количеством заказов и кумулятивной выручкой по дням в группе А\n",
    "cumulativeRevenueA = cumulativeData[cumulativeData['group']=='A'][['date','revenue', 'orders']]\n",
    "\n",
    "# датафрейм с кумулятивным количеством заказов и кумулятивной выручкой по дням в группе B\n",
    "cumulativeRevenueB = cumulativeData[cumulativeData['group']=='B'][['date','revenue', 'orders']]\n",
    "\n",
    "\n",
    "plt.figure(figsize=(12,4))\n",
    "\n",
    "# Строим график выручки группы А\n",
    "plt.plot(cumulativeRevenueA['date'], cumulativeRevenueA['revenue'], label='A')\n",
    "\n",
    "# Строим график выручки группы B\n",
    "\n",
    "plt.plot(cumulativeRevenueB['date'], cumulativeRevenueB['revenue'], \n",
    "         label='B')\n",
    "\n",
    "plt.title('Кумулятивная выручка по дням и группам A/B-тестирования: \\nв группе В выброс 19 августа \\n', loc='left', pad=20)\n",
    "plt.legend()\n",
    "; "
   ]
  },
  {
   "cell_type": "markdown",
   "metadata": {},
   "source": [
    "- ВЫВОД: кумулятивная выручка в группе В растет быстрее. Однако явный отрыв происходит за счет одного скачка между 18 и 19 августа, который может быть вызван выбросом, искажающим результаты. Необходимо проверить набор данных на выбросы и, если необходимо, скорректировать."
   ]
  },
  {
   "cell_type": "markdown",
   "metadata": {},
   "source": [
    "#### Постройте график кумулятивного среднего чека по группам. Сделайте выводы и предположения."
   ]
  },
  {
   "cell_type": "markdown",
   "metadata": {},
   "source": [
    "Разделим кумулятивную выручку на кумулятивное число заказов:"
   ]
  },
  {
   "cell_type": "code",
   "execution_count": 13,
   "metadata": {},
   "outputs": [
    {
     "data": {
      "image/png": "[encoded data removed]",
      "text/plain": [
       "<Figure size 864x288 with 1 Axes>"
      ]
     },
     "metadata": {
      "image/png": {
       "height": 306,
       "width": 742
      },
      "needs_background": "light"
     },
     "output_type": "display_data"
    }
   ],
   "source": [
    "plt.figure(figsize=(12,4))\n",
    "plt.title('Кумулятивный средний чек по группам: \\nв группе В выброс 19 августа \\n', loc='left', pad=20)\n",
    "plt.plot(cumulativeRevenueA['date'], cumulativeRevenueA['revenue']/cumulativeRevenueA['orders'], label='A')\n",
    "plt.plot(cumulativeRevenueB['date'], cumulativeRevenueB['revenue']/cumulativeRevenueB['orders'], label='B')\n",
    "plt.legend(); "
   ]
  },
  {
   "cell_type": "code",
   "execution_count": 14,
   "metadata": {},
   "outputs": [
    {
     "data": {
      "text/html": [
       "<style  type=\"text/css\" >\n",
       "#T_52163_row0_col3{\n",
       "            width:  10em;\n",
       "             height:  80%;\n",
       "            background:  linear-gradient(90deg,#d65f5f 100.0%, transparent 100.0%);\n",
       "        }#T_52163_row1_col3{\n",
       "            width:  10em;\n",
       "             height:  80%;\n",
       "            background:  linear-gradient(90deg,#d65f5f 15.7%, transparent 15.7%);\n",
       "        }#T_52163_row2_col3{\n",
       "            width:  10em;\n",
       "             height:  80%;\n",
       "            background:  linear-gradient(90deg,#d65f5f 7.1%, transparent 7.1%);\n",
       "        }#T_52163_row3_col3{\n",
       "            width:  10em;\n",
       "             height:  80%;\n",
       "            background:  linear-gradient(90deg,#d65f5f 6.7%, transparent 6.7%);\n",
       "        }#T_52163_row4_col3{\n",
       "            width:  10em;\n",
       "             height:  80%;\n",
       "            background:  linear-gradient(90deg,#d65f5f 5.3%, transparent 5.3%);\n",
       "        }#T_52163_row5_col3,#T_52163_row6_col3{\n",
       "            width:  10em;\n",
       "             height:  80%;\n",
       "            background:  linear-gradient(90deg,#d65f5f 5.1%, transparent 5.1%);\n",
       "        }#T_52163_row7_col3{\n",
       "            width:  10em;\n",
       "             height:  80%;\n",
       "            background:  linear-gradient(90deg,#d65f5f 4.7%, transparent 4.7%);\n",
       "        }#T_52163_row8_col3{\n",
       "            width:  10em;\n",
       "             height:  80%;\n",
       "            background:  linear-gradient(90deg,#d65f5f 4.5%, transparent 4.5%);\n",
       "        }#T_52163_row9_col3{\n",
       "            width:  10em;\n",
       "             height:  80%;\n",
       "            background:  linear-gradient(90deg,#d65f5f 4.2%, transparent 4.2%);\n",
       "        }</style><table id=\"T_52163_\" ><thead>    <tr>        <th class=\"blank level0\" ></th>        <th class=\"col_heading level0 col0\" >orderId</th>        <th class=\"col_heading level0 col1\" >userId</th>        <th class=\"col_heading level0 col2\" >date</th>        <th class=\"col_heading level0 col3\" >revenue</th>        <th class=\"col_heading level0 col4\" >group</th>    </tr></thead><tbody>\n",
       "                <tr>\n",
       "                        <th id=\"T_52163_level0_row0\" class=\"row_heading level0 row0\" >425</th>\n",
       "                        <td id=\"T_52163_row0_col0\" class=\"data row0 col0\" >590470918</td>\n",
       "                        <td id=\"T_52163_row0_col1\" class=\"data row0 col1\" >1920142716</td>\n",
       "                        <td id=\"T_52163_row0_col2\" class=\"data row0 col2\" >2019-08-19 00:00:00</td>\n",
       "                        <td id=\"T_52163_row0_col3\" class=\"data row0 col3\" >1294500</td>\n",
       "                        <td id=\"T_52163_row0_col4\" class=\"data row0 col4\" >B</td>\n",
       "            </tr>\n",
       "            <tr>\n",
       "                        <th id=\"T_52163_level0_row1\" class=\"row_heading level0 row1\" >1196</th>\n",
       "                        <td id=\"T_52163_row1_col0\" class=\"data row1 col0\" >3936777065</td>\n",
       "                        <td id=\"T_52163_row1_col1\" class=\"data row1 col1\" >2108080724</td>\n",
       "                        <td id=\"T_52163_row1_col2\" class=\"data row1 col2\" >2019-08-15 00:00:00</td>\n",
       "                        <td id=\"T_52163_row1_col3\" class=\"data row1 col3\" >202740</td>\n",
       "                        <td id=\"T_52163_row1_col4\" class=\"data row1 col4\" >B</td>\n",
       "            </tr>\n",
       "            <tr>\n",
       "                        <th id=\"T_52163_level0_row2\" class=\"row_heading level0 row2\" >1136</th>\n",
       "                        <td id=\"T_52163_row2_col0\" class=\"data row2 col0\" >666610489</td>\n",
       "                        <td id=\"T_52163_row2_col1\" class=\"data row2 col1\" >1307669133</td>\n",
       "                        <td id=\"T_52163_row2_col2\" class=\"data row2 col2\" >2019-08-13 00:00:00</td>\n",
       "                        <td id=\"T_52163_row2_col3\" class=\"data row2 col3\" >92550</td>\n",
       "                        <td id=\"T_52163_row2_col4\" class=\"data row2 col4\" >A</td>\n",
       "            </tr>\n",
       "            <tr>\n",
       "                        <th id=\"T_52163_level0_row3\" class=\"row_heading level0 row3\" >744</th>\n",
       "                        <td id=\"T_52163_row3_col0\" class=\"data row3 col0\" >3668308183</td>\n",
       "                        <td id=\"T_52163_row3_col1\" class=\"data row3 col1\" >888512513</td>\n",
       "                        <td id=\"T_52163_row3_col2\" class=\"data row3 col2\" >2019-08-27 00:00:00</td>\n",
       "                        <td id=\"T_52163_row3_col3\" class=\"data row3 col3\" >86620</td>\n",
       "                        <td id=\"T_52163_row3_col4\" class=\"data row3 col4\" >B</td>\n",
       "            </tr>\n",
       "            <tr>\n",
       "                        <th id=\"T_52163_level0_row4\" class=\"row_heading level0 row4\" >743</th>\n",
       "                        <td id=\"T_52163_row4_col0\" class=\"data row4 col0\" >3603576309</td>\n",
       "                        <td id=\"T_52163_row4_col1\" class=\"data row4 col1\" >4133034833</td>\n",
       "                        <td id=\"T_52163_row4_col2\" class=\"data row4 col2\" >2019-08-09 00:00:00</td>\n",
       "                        <td id=\"T_52163_row4_col3\" class=\"data row4 col3\" >67990</td>\n",
       "                        <td id=\"T_52163_row4_col4\" class=\"data row4 col4\" >A</td>\n",
       "            </tr>\n",
       "            <tr>\n",
       "                        <th id=\"T_52163_level0_row5\" class=\"row_heading level0 row5\" >1103</th>\n",
       "                        <td id=\"T_52163_row5_col0\" class=\"data row5 col0\" >1348774318</td>\n",
       "                        <td id=\"T_52163_row5_col1\" class=\"data row5 col1\" >1164614297</td>\n",
       "                        <td id=\"T_52163_row5_col2\" class=\"data row5 col2\" >2019-08-12 00:00:00</td>\n",
       "                        <td id=\"T_52163_row5_col3\" class=\"data row5 col3\" >66350</td>\n",
       "                        <td id=\"T_52163_row5_col4\" class=\"data row5 col4\" >A</td>\n",
       "            </tr>\n",
       "            <tr>\n",
       "                        <th id=\"T_52163_level0_row6\" class=\"row_heading level0 row6\" >1099</th>\n",
       "                        <td id=\"T_52163_row6_col0\" class=\"data row6 col0\" >316924019</td>\n",
       "                        <td id=\"T_52163_row6_col1\" class=\"data row6 col1\" >148427295</td>\n",
       "                        <td id=\"T_52163_row6_col2\" class=\"data row6 col2\" >2019-08-12 00:00:00</td>\n",
       "                        <td id=\"T_52163_row6_col3\" class=\"data row6 col3\" >65710</td>\n",
       "                        <td id=\"T_52163_row6_col4\" class=\"data row6 col4\" >A</td>\n",
       "            </tr>\n",
       "            <tr>\n",
       "                        <th id=\"T_52163_level0_row7\" class=\"row_heading level0 row7\" >949</th>\n",
       "                        <td id=\"T_52163_row7_col0\" class=\"data row7 col0\" >1347999392</td>\n",
       "                        <td id=\"T_52163_row7_col1\" class=\"data row7 col1\" >887908475</td>\n",
       "                        <td id=\"T_52163_row7_col2\" class=\"data row7 col2\" >2019-08-21 00:00:00</td>\n",
       "                        <td id=\"T_52163_row7_col3\" class=\"data row7 col3\" >60450</td>\n",
       "                        <td id=\"T_52163_row7_col4\" class=\"data row7 col4\" >A</td>\n",
       "            </tr>\n",
       "            <tr>\n",
       "                        <th id=\"T_52163_level0_row8\" class=\"row_heading level0 row8\" >940</th>\n",
       "                        <td id=\"T_52163_row8_col0\" class=\"data row8 col0\" >2420050534</td>\n",
       "                        <td id=\"T_52163_row8_col1\" class=\"data row8 col1\" >4003628586</td>\n",
       "                        <td id=\"T_52163_row8_col2\" class=\"data row8 col2\" >2019-08-08 00:00:00</td>\n",
       "                        <td id=\"T_52163_row8_col3\" class=\"data row8 col3\" >58550</td>\n",
       "                        <td id=\"T_52163_row8_col4\" class=\"data row8 col4\" >B</td>\n",
       "            </tr>\n",
       "            <tr>\n",
       "                        <th id=\"T_52163_level0_row9\" class=\"row_heading level0 row9\" >131</th>\n",
       "                        <td id=\"T_52163_row9_col0\" class=\"data row9 col0\" >3163614039</td>\n",
       "                        <td id=\"T_52163_row9_col1\" class=\"data row9 col1\" >2254586615</td>\n",
       "                        <td id=\"T_52163_row9_col2\" class=\"data row9 col2\" >2019-08-22 00:00:00</td>\n",
       "                        <td id=\"T_52163_row9_col3\" class=\"data row9 col3\" >53904</td>\n",
       "                        <td id=\"T_52163_row9_col4\" class=\"data row9 col4\" >A</td>\n",
       "            </tr>\n",
       "    </tbody></table>"
      ],
      "text/plain": [
       "<pandas.io.formats.style.Styler at 0x7f5d0455bee0>"
      ]
     },
     "execution_count": 14,
     "metadata": {},
     "output_type": "execute_result"
    }
   ],
   "source": [
    "orders.sort_values(\"revenue\", ascending = False).head(10).style.bar(subset='revenue', vmin=0)"
   ]
  },
  {
   "cell_type": "markdown",
   "metadata": {},
   "source": [
    "И действительно, 19 августа был заказ на 1300 тыс, что почти в 6,4 раза больше второго по стоимости заказа за время наблюдений"
   ]
  },
  {
   "cell_type": "markdown",
   "metadata": {},
   "source": [
    "- ВЫВОД: видим резкий скачок среднего чека. Выброс связан с единственным очень крупным заказом"
   ]
  },
  {
   "cell_type": "markdown",
   "metadata": {},
   "source": [
    "#### Постройте график относительного изменения кумулятивного среднего чека группы B к группе A. Сделайте выводы и предположения."
   ]
  },
  {
   "cell_type": "code",
   "execution_count": 15,
   "metadata": {},
   "outputs": [
    {
     "data": {
      "image/png": "[encoded data removed]",
      "text/plain": [
       "<Figure size 864x288 with 1 Axes>"
      ]
     },
     "metadata": {
      "image/png": {
       "height": 292,
       "width": 734
      },
      "needs_background": "light"
     },
     "output_type": "display_data"
    }
   ],
   "source": [
    "# собираем данные в одном датафрейме\n",
    "mergedCumulativeRevenue = cumulativeRevenueA.merge(\n",
    "    cumulativeRevenueB, left_on='date', right_on='date', how='left', suffixes=['A', 'B']\n",
    ")\n",
    "\n",
    "# cтроим отношение средних чеков\n",
    "\n",
    "plt.figure(figsize=(12,4))\n",
    "plt.title('График относительного изменения кумулятивного среднего чека группы B к группе A: \\n результаты группы B лучше, но возможно за счет все того же выброса \\n')\n",
    "\n",
    "plt.plot(\n",
    "    mergedCumulativeRevenue['date'], \n",
    "    (mergedCumulativeRevenue['revenueB']/mergedCumulativeRevenue['ordersB'])\n",
    "    /(mergedCumulativeRevenue['revenueA']/mergedCumulativeRevenue['ordersA'])\n",
    "    -1)\n",
    "\n",
    "# добавляем ось X\n",
    "plt.axhline(y=0, color='black', linestyle='--');"
   ]
  },
  {
   "cell_type": "markdown",
   "metadata": {},
   "source": [
    "ВЫВОД: \n",
    "- относительное изменение кумулятивного среднего чека группы B несколько лучше, но возможно за счет все того же выброса. \n",
    "- Кроме уже известного выброса есть еще несколько точек с резкими скачками."
   ]
  },
  {
   "cell_type": "markdown",
   "metadata": {},
   "source": [
    "#### Постройте график кумулятивной конверсии по группам. Сделайте выводы и предположения."
   ]
  },
  {
   "cell_type": "code",
   "execution_count": 16,
   "metadata": {},
   "outputs": [
    {
     "data": {
      "image/png": "[encoded data removed]",
      "text/plain": [
       "<Figure size 864x288 with 1 Axes>"
      ]
     },
     "metadata": {
      "image/png": {
       "height": 277,
       "width": 732
      },
      "needs_background": "light"
     },
     "output_type": "display_data"
    }
   ],
   "source": [
    "# считаем кумулятивную конверсию\n",
    "cumulativeData['conversion'] = cumulativeData['orders']/cumulativeData['visitors']\n",
    "\n",
    "# отделяем данные по группе A\n",
    "cumulativeDataA = cumulativeData[cumulativeData['group']=='A']\n",
    "\n",
    "# отделяем данные по группе B\n",
    "cumulativeDataB = cumulativeData[cumulativeData['group']=='B']\n",
    "\n",
    "# строим графики\n",
    "plt.figure(figsize=(12,4))\n",
    "plt.title('Кумулятивная конверсия в группе В устойчиво лучше', loc='left', pad=20)\n",
    "plt.ylim(0, 0.05)\n",
    "plt.plot(cumulativeDataA['date'], cumulativeDataA['conversion'], label='A')\n",
    "plt.plot(cumulativeDataB['date'], cumulativeDataB['conversion'], label='B')\n",
    " \n",
    "plt.legend();"
   ]
  },
  {
   "cell_type": "code",
   "execution_count": 17,
   "metadata": {},
   "outputs": [
    {
     "data": {
      "text/html": [
       "<div>\n",
       "<style scoped>\n",
       "    .dataframe tbody tr th:only-of-type {\n",
       "        vertical-align: middle;\n",
       "    }\n",
       "\n",
       "    .dataframe tbody tr th {\n",
       "        vertical-align: top;\n",
       "    }\n",
       "\n",
       "    .dataframe thead th {\n",
       "        text-align: right;\n",
       "    }\n",
       "</style>\n",
       "<table border=\"1\" class=\"dataframe\">\n",
       "  <thead>\n",
       "    <tr style=\"text-align: right;\">\n",
       "      <th></th>\n",
       "      <th>date</th>\n",
       "      <th>group</th>\n",
       "      <th>orders</th>\n",
       "      <th>buyers</th>\n",
       "      <th>revenue</th>\n",
       "      <th>visitors</th>\n",
       "      <th>conversion</th>\n",
       "    </tr>\n",
       "  </thead>\n",
       "  <tbody>\n",
       "    <tr>\n",
       "      <th>60</th>\n",
       "      <td>2019-08-31</td>\n",
       "      <td>A</td>\n",
       "      <td>468</td>\n",
       "      <td>445</td>\n",
       "      <td>3364656</td>\n",
       "      <td>18736</td>\n",
       "      <td>0.024979</td>\n",
       "    </tr>\n",
       "    <tr>\n",
       "      <th>61</th>\n",
       "      <td>2019-08-31</td>\n",
       "      <td>B</td>\n",
       "      <td>548</td>\n",
       "      <td>528</td>\n",
       "      <td>5068972</td>\n",
       "      <td>18916</td>\n",
       "      <td>0.028970</td>\n",
       "    </tr>\n",
       "  </tbody>\n",
       "</table>\n",
       "</div>"
      ],
      "text/plain": [
       "         date group  orders  buyers  revenue  visitors  conversion\n",
       "60 2019-08-31     A     468     445  3364656     18736    0.024979\n",
       "61 2019-08-31     B     548     528  5068972     18916    0.028970"
      ]
     },
     "execution_count": 17,
     "metadata": {},
     "output_type": "execute_result"
    }
   ],
   "source": [
    "cumulativeData.sort_values(by='date').tail(2)"
   ]
  },
  {
   "cell_type": "markdown",
   "metadata": {},
   "source": [
    "ВЫВОД: \n",
    "- кумулятивная конверсия в группе В устойчиво лучше\n",
    "- однако разница меньше процента, необходимо дополнительно проверить, является ли она статистически значимой"
   ]
  },
  {
   "cell_type": "markdown",
   "metadata": {},
   "source": [
    "#### Постройте график относительного изменения кумулятивной конверсии группы B к группе A. Сделайте выводы и предположения."
   ]
  },
  {
   "cell_type": "code",
   "execution_count": 18,
   "metadata": {},
   "outputs": [
    {
     "data": {
      "text/plain": [
       "''"
      ]
     },
     "execution_count": 18,
     "metadata": {},
     "output_type": "execute_result"
    },
    {
     "data": {
      "image/png": "[encoded data removed]",
      "text/plain": [
       "<Figure size 864x288 with 1 Axes>"
      ]
     },
     "metadata": {
      "image/png": {
       "height": 277,
       "width": 734
      },
      "needs_background": "light"
     },
     "output_type": "display_data"
    }
   ],
   "source": [
    "mergedCumulativeConversions = cumulativeDataA[['date','conversion']].merge(cumulativeDataB[['date','conversion']], left_on='date', right_on='date', how='left', suffixes=['A', 'B'])\n",
    "\n",
    "\n",
    "plt.figure(figsize=(12,4))\n",
    "plt.title('Относительный прирост кумулятивной конверсии группы B лучше относительно группы A', loc='left', pad=20)\n",
    "\n",
    "plt.plot(\n",
    "    mergedCumulativeConversions['date'], \n",
    "    mergedCumulativeConversions['conversionB']/mergedCumulativeConversions['conversionA']-1, \n",
    "    label=\"Относительный прирост конверсии группы B относительно группы A\")\n",
    "plt.legend()\n",
    "\n",
    "plt.axhline(y=0, color='black', linestyle='--')\n",
    "plt.axhline(y=0.1, color='grey', linestyle='--')\n",
    ";\n",
    " "
   ]
  },
  {
   "cell_type": "markdown",
   "metadata": {},
   "source": [
    "ВЫВОД: \n",
    "- Относительный прирост конверсии группы B лучше относительно группы A\n",
    "- разница порядка 10%"
   ]
  },
  {
   "cell_type": "markdown",
   "metadata": {},
   "source": [
    "#### Постройте точечный график количества заказов по пользователям. Сделайте выводы и предположения."
   ]
  },
  {
   "cell_type": "code",
   "execution_count": 19,
   "metadata": {},
   "outputs": [
    {
     "name": "stdout",
     "output_type": "stream",
     "text": [
      "         userId  orders\n",
      "908  3967698036       3\n",
      "55    249864742       3\n",
      "478  2108163459       3\n",
      "687  2988190573       3\n",
      "890  3908431265       3\n",
      "138   611059232       3\n",
      "632  2742574263       3\n",
      "157   678354126       2\n",
      "323  1404560065       2\n",
      "452  1985475298       2\n"
     ]
    }
   ],
   "source": [
    "ordersByUsers = (\n",
    "    orders.groupby('userId', as_index=False)\n",
    "    .agg({'orderId': pd.Series.nunique})\n",
    ")\n",
    "\n",
    "ordersByUsers.columns = ['userId', 'orders']\n",
    "\n",
    "print(ordersByUsers.sort_values(by='orders', ascending=False).head(10)) "
   ]
  },
  {
   "cell_type": "code",
   "execution_count": 20,
   "metadata": {},
   "outputs": [
    {
     "data": {
      "image/png": "[encoded data removed]",
      "text/plain": [
       "<Figure size 864x432 with 1 Axes>"
      ]
     },
     "metadata": {
      "image/png": {
       "height": 387,
       "width": 713
      },
      "needs_background": "light"
     },
     "output_type": "display_data"
    }
   ],
   "source": [
    "x_values = pd.Series(range(0,len(ordersByUsers)))\n",
    "\n",
    "plt.figure(figsize=(12,6))\n",
    "plt.title('Количество заказов по пользователям: есть выбросы', loc='left', pad=20)\n",
    "\n",
    "plt.scatter(x_values, ordersByUsers['orders']) ; "
   ]
  },
  {
   "cell_type": "markdown",
   "metadata": {},
   "source": [
    "ВЫВОД: \n",
    "- количество заказов распределено неравномерно. Небольшое количество клиентов заказывают существенно чаще остальных."
   ]
  },
  {
   "cell_type": "markdown",
   "metadata": {},
   "source": [
    "#### Посчитайте 95-й и 99-й перцентили количества заказов на пользователя. Выберите границу для определения аномальных пользователей."
   ]
  },
  {
   "cell_type": "code",
   "execution_count": 21,
   "metadata": {},
   "outputs": [
    {
     "name": "stdout",
     "output_type": "stream",
     "text": [
      "[1. 1. 2.]\n"
     ]
    }
   ],
   "source": [
    "print(np.percentile(ordersByUsers['orders'], [90, 95, 99])) "
   ]
  },
  {
   "cell_type": "code",
   "execution_count": 32,
   "metadata": {},
   "outputs": [
    {
     "name": "stdout",
     "output_type": "stream",
     "text": [
      "973\n"
     ]
    },
    {
     "data": {
      "text/plain": [
       "userId     7\n",
       "orderId    7\n",
       "dtype: int64"
      ]
     },
     "execution_count": 32,
     "metadata": {},
     "output_type": "execute_result"
    }
   ],
   "source": [
    "orders_count = orders.groupby('userId', as_index = False)['orderId'].nunique()\n",
    "print(len(orders_count))\n",
    "orders_count.loc[orders_count['orderId'] > 2].count()"
   ]
  },
  {
   "cell_type": "code",
   "execution_count": 33,
   "metadata": {},
   "outputs": [],
   "source": [
    "# чтобы не переписывать код дальше, изменю лимит \n",
    "# orders_count_lim = int(np.percentile(ordersByUsers['orders'], [95]))\n",
    "orders_count_lim = 4"
   ]
  },
  {
   "cell_type": "markdown",
   "metadata": {},
   "source": [
    "ВЫВОД: \n",
    "- ничего не чистим, т.к. аномальные пользователи удалены раньше"
   ]
  },
  {
   "cell_type": "markdown",
   "metadata": {},
   "source": [
    "#### Постройте точечный график стоимостей заказов. Сделайте выводы и предположения."
   ]
  },
  {
   "cell_type": "code",
   "execution_count": 34,
   "metadata": {
    "scrolled": false
   },
   "outputs": [
    {
     "data": {
      "image/png": "[encoded data removed]",
      "text/plain": [
       "<Figure size 864x432 with 1 Axes>"
      ]
     },
     "metadata": {
      "image/png": {
       "height": 387,
       "width": 706
      },
      "needs_background": "light"
     },
     "output_type": "display_data"
    }
   ],
   "source": [
    "x_values = pd.Series(range(0,len(orders['revenue'])))\n",
    "\n",
    "plt.figure(figsize=(12,6))\n",
    "plt.title('Стоимость заказов: есть выбросы', loc='left', pad=20)\n",
    "plt.scatter(x_values, orders['revenue']); "
   ]
  },
  {
   "cell_type": "markdown",
   "metadata": {},
   "source": [
    "ВЫВОД: \n",
    "- есть заказы, стоимость которых очень сильно превышает средний чек"
   ]
  },
  {
   "cell_type": "markdown",
   "metadata": {},
   "source": [
    "#### Посчитайте 95-й и 99-й перцентили стоимости заказов. Выберите границу для определения аномальных заказов."
   ]
  },
  {
   "cell_type": "code",
   "execution_count": 35,
   "metadata": {},
   "outputs": [
    {
     "name": "stdout",
     "output_type": "stream",
     "text": [
      "[17990. 26785. 53904.]\n"
     ]
    }
   ],
   "source": [
    "prices = np.percentile(orders['revenue'], [90, 95, 99])\n",
    "print(prices) "
   ]
  },
  {
   "cell_type": "markdown",
   "metadata": {},
   "source": [
    "установим 95 перцентиль порогом для стоимости заказов"
   ]
  },
  {
   "cell_type": "code",
   "execution_count": 36,
   "metadata": {},
   "outputs": [
    {
     "data": {
      "text/plain": [
       "26785"
      ]
     },
     "execution_count": 36,
     "metadata": {},
     "output_type": "execute_result"
    }
   ],
   "source": [
    "orders_price_lim = int(np.percentile(orders['revenue'], [95]))\n",
    "orders_price_lim"
   ]
  },
  {
   "cell_type": "markdown",
   "metadata": {},
   "source": [
    "ВЫВОД: \n",
    "- 95% заказов не дороже 26785. Отбросим все заказы с чеком больше этой суммы"
   ]
  },
  {
   "cell_type": "markdown",
   "metadata": {},
   "source": [
    "#### Посчитайте по полным и очищенным от выбросов данным: \n",
    "- статистическую значимость различий в конверсии \n",
    "- статистическую значимость различий в чеке заказа\n",
    "\n",
    "Сделайте выводы и предположения."
   ]
  },
  {
   "cell_type": "markdown",
   "metadata": {},
   "source": [
    "#### Сформулируем гипотезы:\n",
    "\n",
    "-----\n",
    "    КОНВЕРСИЯ\n",
    "    \n",
    "    H0: конверсия в группе А и в группе В не отличается\n",
    "    \n",
    "    H1: конверсия в группе А и в группе В отличается\n",
    "\n",
    "-----\n",
    "    СРЕДНИЙ ЧЕК\n",
    "    \n",
    "    H0: средний чек в группе А и в группе В не отличается\n",
    "    \n",
    "    H1: средний чек в группе А и в группе В отличается"
   ]
  },
  {
   "cell_type": "code",
   "execution_count": 37,
   "metadata": {},
   "outputs": [],
   "source": [
    "# посчитаем количество посетителей на каждый день для каждой группы\n",
    "\n",
    "visitorsADaily = visitors[visitors['group'] == 'A'][['date', 'visitors']]\n",
    "visitorsADaily.columns = ['date', 'visitorsPerDateA']\n",
    "\n",
    "visitorsACummulative = visitorsADaily.apply(\n",
    "    lambda x: visitorsADaily[visitorsADaily['date'] <= x['date']].agg(\n",
    "        {'date': 'max', 'visitorsPerDateA': 'sum'}\n",
    "    ),\n",
    "    axis=1,\n",
    ")\n",
    "visitorsACummulative.columns = ['date', 'visitorsCummulativeA']\n",
    "\n",
    "visitorsBDaily = visitors[visitors['group'] == 'B'][['date', 'visitors']]\n",
    "visitorsBDaily.columns = ['date', 'visitorsPerDateB']\n",
    "\n",
    "visitorsBCummulative = visitorsBDaily.apply(\n",
    "    lambda x: visitorsBDaily[visitorsBDaily['date'] <= x['date']].agg(\n",
    "        {'date': 'max', 'visitorsPerDateB': 'sum'}\n",
    "    ),\n",
    "    axis=1,\n",
    ")\n",
    "visitorsBCummulative.columns = ['date', 'visitorsCummulativeB']\n",
    "\n",
    "# посчитаем количество заказов на каждый день для каждой группы\n",
    "\n",
    "ordersADaily = (\n",
    "    orders[orders['group'] == 'A'][['date', 'orderId', 'userId', 'revenue']]\n",
    "    .groupby('date', as_index=False)\n",
    "    .agg({'orderId': pd.Series.nunique, 'revenue': 'sum'})\n",
    ")\n",
    "ordersADaily.columns = ['date', 'ordersPerDateA', 'revenuePerDateA']\n",
    "\n",
    "ordersACummulative = ordersADaily.apply(\n",
    "    lambda x: ordersADaily[ordersADaily['date'] <= x['date']].agg(\n",
    "        {'date': 'max', 'ordersPerDateA': 'sum', 'revenuePerDateA': 'sum'}\n",
    "    ),\n",
    "    axis=1,\n",
    ").sort_values(by=['date'])\n",
    "ordersACummulative.columns = [\n",
    "    'date',\n",
    "    'ordersCummulativeA',\n",
    "    'revenueCummulativeA',\n",
    "]\n",
    "\n",
    "ordersBDaily = (\n",
    "    orders[orders['group'] == 'B'][['date', 'orderId', 'userId', 'revenue']]\n",
    "    .groupby('date', as_index=False)\n",
    "    .agg({'orderId': pd.Series.nunique, 'revenue': 'sum'})\n",
    ")\n",
    "ordersBDaily.columns = ['date', 'ordersPerDateB', 'revenuePerDateB']\n",
    "\n",
    "# количество заказов кумулятивно\n",
    "\n",
    "ordersBCummulative = ordersBDaily.apply(\n",
    "    lambda x: ordersBDaily[ordersBDaily['date'] <= x['date']].agg(\n",
    "        {'date': 'max', 'ordersPerDateB': 'sum', 'revenuePerDateB': 'sum'}\n",
    "    ),\n",
    "    axis=1,\n",
    ").sort_values(by=['date'])\n",
    "ordersBCummulative.columns = [\n",
    "    'date',\n",
    "    'ordersCummulativeB',\n",
    "    'revenueCummulativeB',\n",
    "]\n",
    "\n",
    "# соберем в одну таблицу\n",
    "data = (\n",
    "    ordersADaily.merge(\n",
    "        ordersBDaily, left_on='date', right_on='date', how='left'\n",
    "    )\n",
    "    .merge(ordersACummulative, left_on='date', right_on='date', how='left')\n",
    "    .merge(ordersBCummulative, left_on='date', right_on='date', how='left')\n",
    "    .merge(visitorsADaily, left_on='date', right_on='date', how='left')\n",
    "    .merge(visitorsBDaily, left_on='date', right_on='date', how='left')\n",
    "    .merge(visitorsACummulative, left_on='date', right_on='date', how='left')\n",
    "    .merge(visitorsBCummulative, left_on='date', right_on='date', how='left')\n",
    ")"
   ]
  },
  {
   "cell_type": "code",
   "execution_count": 38,
   "metadata": {},
   "outputs": [],
   "source": [
    "ordersByUsersA = (\n",
    "    orders[orders['group'] == 'A']\n",
    "    .groupby('userId', as_index=False)\n",
    "    .agg({'orderId': pd.Series.nunique})\n",
    ")\n",
    "ordersByUsersA.columns = ['userId', 'orders']\n",
    "\n",
    "ordersByUsersB = (\n",
    "    orders[orders['group'] == 'B']\n",
    "    .groupby('userId', as_index=False)\n",
    "    .agg({'orderId': pd.Series.nunique})\n",
    ")\n",
    "ordersByUsersB.columns = ['userId', 'orders']\n",
    "\n",
    "sampleA = pd.concat(\n",
    "    [\n",
    "        ordersByUsersA['orders'],\n",
    "        pd.Series(\n",
    "            0,\n",
    "            index=np.arange(\n",
    "                data['visitorsPerDateA'].sum() - len(ordersByUsersA['orders'])\n",
    "            ),\n",
    "            name='orders',\n",
    "        ),\n",
    "    ],\n",
    "    axis=0,\n",
    ")\n",
    "\n",
    "sampleB = pd.concat(\n",
    "    [\n",
    "        ordersByUsersB['orders'],\n",
    "        pd.Series(\n",
    "            0,\n",
    "            index=np.arange(\n",
    "                data['visitorsPerDateB'].sum() - len(ordersByUsersB['orders'])\n",
    "            ),\n",
    "            name='orders',\n",
    "        ),\n",
    "    ],\n",
    "    axis=0,\n",
    ")"
   ]
  },
  {
   "cell_type": "code",
   "execution_count": 39,
   "metadata": {},
   "outputs": [],
   "source": [
    "def check (sampleA, sampleB, orders):\n",
    "    \n",
    "    # определим, является ли конверсия статистически значимой\n",
    "    alpha = 0.05\n",
    "    result = stats.mannwhitneyu(sampleA, sampleB)[1]\n",
    "\n",
    "    # также рассчитаем разницу между средним чеком в группе А и группе В\n",
    "    diff = sampleB.mean() / sampleA.mean() - 1\n",
    "\n",
    "\n",
    "    print('КОНВЕРСИЯ: различие между группами')\n",
    "\n",
    "    if result < alpha:\n",
    "        print ('РАЗНИЦА СТАТИСТИЧЕСКИ ЗНАЧИМА')\n",
    "    else: \n",
    "        print ('НЕ МОЖЕМ УТВЕРЖДАТЬ, что разница статистически значима')\n",
    "\n",
    "    print ('результат теста: \\n', \"{0:.3f}\".format(result), '\\n')\n",
    "\n",
    "    print ( \n",
    "        'различие в конверсии между группами: \\n', \"{0:.3f}\".format(diff)\n",
    "          )\n",
    "\n",
    "    print ('---------------------------------------------------------------------------------')\n",
    "    print('СРЕДНИЙ ЧЕК: различие между группами')\n",
    "    alpha = 0.05\n",
    "    result = stats.mannwhitneyu(orders[orders['group']=='A']['revenue'], orders[orders['group']=='B']['revenue'])[1]\n",
    "    diff = orders[orders['group']=='B']['revenue'].mean()/orders[orders['group']=='A']['revenue'].mean()-1\n",
    "\n",
    "\n",
    "    if result < alpha:\n",
    "        print ('РАЗНИЦА СТАТИСТИЧЕСКИ ЗНАЧИМА')\n",
    "    else: \n",
    "        print ('НЕ МОЖЕМ УТВЕРЖДАТЬ, что разница статистически значима')\n",
    "\n",
    "    print ('результат теста: \\n', \"{0:.3f}\".format(result), '\\n')\n",
    "    print ('различие в чеке между группами: \\n', \"{0:.3f}\".format(diff))"
   ]
  },
  {
   "cell_type": "markdown",
   "metadata": {},
   "source": [
    "##### Посчитаем по данным до очистки от выбросов"
   ]
  },
  {
   "cell_type": "code",
   "execution_count": 40,
   "metadata": {},
   "outputs": [
    {
     "name": "stdout",
     "output_type": "stream",
     "text": [
      "КОНВЕРСИЯ: различие между группами\n",
      "РАЗНИЦА СТАТИСТИЧЕСКИ ЗНАЧИМА\n",
      "результат теста: \n",
      " 0.011 \n",
      "\n",
      "различие в конверсии между группами: \n",
      " 0.160\n",
      "---------------------------------------------------------------------------------\n",
      "СРЕДНИЙ ЧЕК: различие между группами\n",
      "НЕ МОЖЕМ УТВЕРЖДАТЬ, что разница статистически значима\n",
      "результат теста: \n",
      " 0.829 \n",
      "\n",
      "различие в чеке между группами: \n",
      " 0.287\n"
     ]
    }
   ],
   "source": [
    "check (sampleA, sampleB, orders)"
   ]
  },
  {
   "cell_type": "markdown",
   "metadata": {},
   "source": [
    "ВЫВОД анализа без очистки выбросов:  \n",
    "- конверсия в группе В выше, статистически значимо\n",
    "- конверсия выше на 16%\n",
    "- различие в среднем чеке между группами равно 29%\n",
    "- при этом различие не является статистически значимым"
   ]
  },
  {
   "cell_type": "markdown",
   "metadata": {},
   "source": [
    "##### Очистим датафрейм с заказами от выбросов и проанализируем данные еще раз"
   ]
  },
  {
   "cell_type": "code",
   "execution_count": 41,
   "metadata": {},
   "outputs": [
    {
     "name": "stdout",
     "output_type": "stream",
     "text": [
      "568     113298937\n",
      "1099    148427295\n",
      "928     204675465\n",
      "684     358944393\n",
      "648     382846391\n",
      "Name: userId, dtype: int64\n",
      "\n",
      "Всего пользователей с аномальным количеством / ценой заказов:\n",
      "51\n"
     ]
    }
   ],
   "source": [
    "# создадим таблицу abnormal users\n",
    "\n",
    "usersWithManyOrders = pd.concat(\n",
    "    [\n",
    "        ordersByUsersA[ordersByUsersA['orders'] > orders_count_lim]['userId'],\n",
    "        ordersByUsersB[ordersByUsersB['orders'] > orders_count_lim]['userId'],\n",
    "    ],\n",
    "    axis=0,\n",
    ")\n",
    "usersWithExpensiveOrders = orders[orders['revenue'] > orders_price_lim]['userId']\n",
    "abnormalUsers = (\n",
    "    pd.concat([usersWithManyOrders, usersWithExpensiveOrders], axis=0)\n",
    "    .drop_duplicates()\n",
    "    .sort_values()\n",
    ")\n",
    "print(abnormalUsers.head(5))\n",
    "\n",
    "print ('\\nВсего пользователей с аномальным количеством / ценой заказов:')\n",
    "print(abnormalUsers.shape[0])"
   ]
  },
  {
   "cell_type": "markdown",
   "metadata": {},
   "source": [
    "подготовим очищенные выборки"
   ]
  },
  {
   "cell_type": "code",
   "execution_count": 42,
   "metadata": {},
   "outputs": [],
   "source": [
    "sampleAFiltered = pd.concat(\n",
    "    [\n",
    "        ordersByUsersA[\n",
    "            np.logical_not(ordersByUsersA['userId'].isin(abnormalUsers))\n",
    "        ]['orders'],\n",
    "        pd.Series(\n",
    "            0,\n",
    "            index=np.arange(\n",
    "                data['visitorsPerDateA'].sum() - len(ordersByUsersA['orders'])\n",
    "            ),\n",
    "            name='orders',\n",
    "        ),\n",
    "    ],\n",
    "    axis=0,\n",
    ")\n",
    "\n",
    "sampleBFiltered = pd.concat(\n",
    "    [\n",
    "        ordersByUsersB[\n",
    "            np.logical_not(ordersByUsersB['userId'].isin(abnormalUsers))\n",
    "        ]['orders'],\n",
    "        pd.Series(\n",
    "            0,\n",
    "            index=np.arange(\n",
    "                data['visitorsPerDateB'].sum() - len(ordersByUsersB['orders'])\n",
    "            ),\n",
    "            name='orders',\n",
    "        ),\n",
    "    ],\n",
    "    axis=0,\n",
    ")"
   ]
  },
  {
   "cell_type": "markdown",
   "metadata": {},
   "source": [
    "подготовим очищенный датафрейм с заказами"
   ]
  },
  {
   "cell_type": "code",
   "execution_count": 43,
   "metadata": {},
   "outputs": [
    {
     "data": {
      "text/plain": [
       "(964, 5)"
      ]
     },
     "execution_count": 43,
     "metadata": {},
     "output_type": "execute_result"
    }
   ],
   "source": [
    "ordersFiltered = orders[np.logical_not(orders['userId'].isin(abnormalUsers))]\n",
    "ordersFiltered.shape"
   ]
  },
  {
   "cell_type": "markdown",
   "metadata": {},
   "source": [
    "**Еще раз посчитаем статистическую достоверность и разницу в среднем чеке, на очищенных данных**"
   ]
  },
  {
   "cell_type": "code",
   "execution_count": 44,
   "metadata": {},
   "outputs": [
    {
     "name": "stdout",
     "output_type": "stream",
     "text": [
      "КОНВЕРСИЯ: различие между группами\n",
      "РАЗНИЦА СТАТИСТИЧЕСКИ ЗНАЧИМА\n",
      "результат теста: \n",
      " 0.017 \n",
      "\n",
      "различие в конверсии между группами: \n",
      " 0.156\n",
      "---------------------------------------------------------------------------------\n",
      "СРЕДНИЙ ЧЕК: различие между группами\n",
      "НЕ МОЖЕМ УТВЕРЖДАТЬ, что разница статистически значима\n",
      "результат теста: \n",
      " 0.741 \n",
      "\n",
      "различие в чеке между группами: \n",
      " -0.053\n"
     ]
    }
   ],
   "source": [
    "check (sampleAFiltered, sampleBFiltered, ordersFiltered)"
   ]
  },
  {
   "cell_type": "markdown",
   "metadata": {},
   "source": [
    "сигналы по конверсии близки к тем что были до очистки датасета от дублирующихся пользователей, по среднему чеку - проигрыш В усилился с 2% до 5%, но эта разница по-прежнему статистически не значима"
   ]
  },
  {
   "cell_type": "markdown",
   "metadata": {},
   "source": [
    "Для проверки построю график среднего чека по очищенным данным"
   ]
  },
  {
   "cell_type": "code",
   "execution_count": 45,
   "metadata": {},
   "outputs": [
    {
     "data": {
      "text/html": [
       "<div>\n",
       "<style scoped>\n",
       "    .dataframe tbody tr th:only-of-type {\n",
       "        vertical-align: middle;\n",
       "    }\n",
       "\n",
       "    .dataframe tbody tr th {\n",
       "        vertical-align: top;\n",
       "    }\n",
       "\n",
       "    .dataframe thead th {\n",
       "        text-align: right;\n",
       "    }\n",
       "</style>\n",
       "<table border=\"1\" class=\"dataframe\">\n",
       "  <thead>\n",
       "    <tr style=\"text-align: right;\">\n",
       "      <th></th>\n",
       "      <th>orderId A</th>\n",
       "      <th>orderId B</th>\n",
       "      <th>revenue A</th>\n",
       "      <th>revenue B</th>\n",
       "      <th>mean_A</th>\n",
       "      <th>mean_B</th>\n",
       "    </tr>\n",
       "    <tr>\n",
       "      <th>date</th>\n",
       "      <th></th>\n",
       "      <th></th>\n",
       "      <th></th>\n",
       "      <th></th>\n",
       "      <th></th>\n",
       "      <th></th>\n",
       "    </tr>\n",
       "  </thead>\n",
       "  <tbody>\n",
       "    <tr>\n",
       "      <th>2019-08-01</th>\n",
       "      <td>21</td>\n",
       "      <td>17</td>\n",
       "      <td>84790</td>\n",
       "      <td>59758</td>\n",
       "      <td>4037.619048</td>\n",
       "      <td>3515.176471</td>\n",
       "    </tr>\n",
       "    <tr>\n",
       "      <th>2019-08-02</th>\n",
       "      <td>40</td>\n",
       "      <td>38</td>\n",
       "      <td>176392</td>\n",
       "      <td>152992</td>\n",
       "      <td>4409.800000</td>\n",
       "      <td>4026.105263</td>\n",
       "    </tr>\n",
       "    <tr>\n",
       "      <th>2019-08-03</th>\n",
       "      <td>64</td>\n",
       "      <td>52</td>\n",
       "      <td>288865</td>\n",
       "      <td>220041</td>\n",
       "      <td>4513.515625</td>\n",
       "      <td>4231.557692</td>\n",
       "    </tr>\n",
       "    <tr>\n",
       "      <th>2019-08-04</th>\n",
       "      <td>75</td>\n",
       "      <td>65</td>\n",
       "      <td>330041</td>\n",
       "      <td>285581</td>\n",
       "      <td>4400.546667</td>\n",
       "      <td>4393.553846</td>\n",
       "    </tr>\n",
       "    <tr>\n",
       "      <th>2019-08-05</th>\n",
       "      <td>97</td>\n",
       "      <td>85</td>\n",
       "      <td>416424</td>\n",
       "      <td>347139</td>\n",
       "      <td>4293.030928</td>\n",
       "      <td>4083.988235</td>\n",
       "    </tr>\n",
       "  </tbody>\n",
       "</table>\n",
       "</div>"
      ],
      "text/plain": [
       "            orderId A  orderId B  revenue A  revenue B       mean_A  \\\n",
       "date                                                                  \n",
       "2019-08-01         21         17      84790      59758  4037.619048   \n",
       "2019-08-02         40         38     176392     152992  4409.800000   \n",
       "2019-08-03         64         52     288865     220041  4513.515625   \n",
       "2019-08-04         75         65     330041     285581  4400.546667   \n",
       "2019-08-05         97         85     416424     347139  4293.030928   \n",
       "\n",
       "                 mean_B  \n",
       "date                     \n",
       "2019-08-01  3515.176471  \n",
       "2019-08-02  4026.105263  \n",
       "2019-08-03  4231.557692  \n",
       "2019-08-04  4393.553846  \n",
       "2019-08-05  4083.988235  "
      ]
     },
     "execution_count": 45,
     "metadata": {},
     "output_type": "execute_result"
    }
   ],
   "source": [
    "filtered_check = ( \n",
    "    (\n",
    "        ordersFiltered.pivot_table(\n",
    "            index='date', \n",
    "            columns='group', \n",
    "            values = ['revenue', 'orderId'], \n",
    "            aggfunc = {'revenue':'sum','orderId': pd.Series.nunique})\n",
    "    )\n",
    "        .cumsum()\n",
    "        .assign (\n",
    "                    mean_A =lambda x: x['revenue']['A']/x['orderId']['A'],\n",
    "                    mean_B =lambda x: x['revenue']['B']/x['orderId']['B'], \n",
    "                )\n",
    ")\n",
    "\n",
    "filtered_check.columns=[' '.join(col).strip() for col in filtered_check.columns.values]\n",
    "\n",
    "filtered_check.head()\n"
   ]
  },
  {
   "cell_type": "code",
   "execution_count": 46,
   "metadata": {},
   "outputs": [
    {
     "data": {
      "text/plain": [
       "''"
      ]
     },
     "execution_count": 46,
     "metadata": {},
     "output_type": "execute_result"
    },
    {
     "data": {
      "image/png": "[encoded data removed]",
      "text/plain": [
       "<Figure size 864x288 with 1 Axes>"
      ]
     },
     "metadata": {
      "image/png": {
       "height": 324,
       "width": 706
      },
      "needs_background": "light"
     },
     "output_type": "display_data"
    }
   ],
   "source": [
    "filtered_check[['revenue A', 'revenue B']].plot( figsize = (12,4))\n",
    "plt.title(\n",
    "    'Кумулятивная динамика выручки по очищенным данным - выбросы пропали', \n",
    "    loc='left', pad=20)\n",
    ";\n"
   ]
  },
  {
   "cell_type": "code",
   "execution_count": 47,
   "metadata": {},
   "outputs": [
    {
     "data": {
      "text/plain": [
       "''"
      ]
     },
     "execution_count": 47,
     "metadata": {},
     "output_type": "execute_result"
    },
    {
     "data": {
      "image/png": "[encoded data removed]",
      "text/plain": [
       "<Figure size 864x288 with 1 Axes>"
      ]
     },
     "metadata": {
      "image/png": {
       "height": 352,
       "width": 716
      },
      "needs_background": "light"
     },
     "output_type": "display_data"
    }
   ],
   "source": [
    "filtered_check[['mean_A', 'mean_B']].plot( figsize = (12,4))\n",
    "plt.title(\n",
    "    'Кумулятивная динамика среднего чека по очищенным данным - \\nочевидной разницы нет, \\nпоказатели стабилизировались', \n",
    "    loc='left', pad=20)\n",
    ";\n"
   ]
  },
  {
   "cell_type": "markdown",
   "metadata": {},
   "source": [
    "### Выводы"
   ]
  },
  {
   "cell_type": "markdown",
   "metadata": {},
   "source": [
    "Суммируем предварительные выводы. \n",
    "\n",
    "Группа В лидирует по следующим показателям:\n",
    "\n",
    "- кумулятивная выручка, кумулятивный средний чек (однако это вызвано одним выбросом)\n",
    "- кумулятивная конверсия - здесь показатель лучше группы А на 10% (относительно) и на 0,4% в абсолюте на последнюю дату наблюдений. Показатели конверсии уже стабилизировались. \n",
    "- в данных присутствует небольшое количество существенных выбросов по цене и количеству покупок\n",
    "-----\n",
    "#### Выводы после очистки данных от выбросов:\n",
    "- разница в конверсии между группами статистически значима. Группа В показала относительный прирост в 17%\n",
    "- разница в среднем чеке статистически НЕ значима. Средний чек в группе В даже несколько ниже.\n",
    "\n",
    "-----\n",
    "#### Тест можно остановить:\n",
    "- было недостаточно данных, чтобы определить необходимую продолжительность теста\n",
    "- необходимый для подтверждения статистической значимости размер выборки достигнут\n",
    "- метрики стабилизировались\n",
    "\n",
    "Следовательно, \n",
    "\n",
    "**тест можно остановить со следующим результатом:**\n",
    " - не зафиксировано разницы по среднему чеку\n",
    " - конверсия в группе B лучше на 15% относительно конверсии в группе А\n"
   ]
  }
 ],
 "metadata": {
  "ExecuteTimeLog": [
   {
    "duration": 249,
    "start_time": "2022-03-13T15:47:37.121Z"
   },
   {
    "duration": 1128,
    "start_time": "2022-03-13T15:47:43.136Z"
   },
   {
    "duration": 26,
    "start_time": "2022-03-13T15:47:54.568Z"
   },
   {
    "duration": 71,
    "start_time": "2022-03-13T15:48:23.313Z"
   },
   {
    "duration": 32,
    "start_time": "2022-03-13T15:48:40.199Z"
   },
   {
    "duration": 22,
    "start_time": "2022-03-13T15:49:06.336Z"
   },
   {
    "duration": 24,
    "start_time": "2022-03-13T15:49:38.810Z"
   },
   {
    "duration": 24,
    "start_time": "2022-03-13T15:50:14.175Z"
   },
   {
    "duration": 26,
    "start_time": "2022-03-13T15:50:48.998Z"
   },
   {
    "duration": 23,
    "start_time": "2022-03-13T15:50:58.126Z"
   },
   {
    "duration": 444,
    "start_time": "2022-03-13T15:51:14.774Z"
   },
   {
    "duration": 28,
    "start_time": "2022-03-13T15:52:40.104Z"
   },
   {
    "duration": 568,
    "start_time": "2022-03-13T15:53:59.994Z"
   },
   {
    "duration": 25,
    "start_time": "2022-03-13T15:54:03.532Z"
   },
   {
    "duration": 26,
    "start_time": "2022-03-13T15:54:23.670Z"
   },
   {
    "duration": 24,
    "start_time": "2022-03-13T15:54:32.919Z"
   },
   {
    "duration": 27,
    "start_time": "2022-03-13T15:56:57.345Z"
   },
   {
    "duration": 246,
    "start_time": "2022-03-13T16:05:39.151Z"
   },
   {
    "duration": 340,
    "start_time": "2022-03-13T16:05:47.899Z"
   },
   {
    "duration": 40,
    "start_time": "2022-03-13T16:06:03.726Z"
   },
   {
    "duration": 33,
    "start_time": "2022-03-13T16:06:11.557Z"
   },
   {
    "duration": 36,
    "start_time": "2022-03-13T16:06:41.905Z"
   },
   {
    "duration": 47,
    "start_time": "2022-03-13T16:06:50.948Z"
   },
   {
    "duration": 40,
    "start_time": "2022-03-13T16:07:05.176Z"
   },
   {
    "duration": 39,
    "start_time": "2022-03-13T16:07:17.306Z"
   },
   {
    "duration": 35,
    "start_time": "2022-03-13T16:07:44.533Z"
   },
   {
    "duration": 37,
    "start_time": "2022-03-13T16:07:52.009Z"
   },
   {
    "duration": 41,
    "start_time": "2022-03-13T16:08:15.376Z"
   },
   {
    "duration": 36,
    "start_time": "2022-03-13T16:08:24.786Z"
   },
   {
    "duration": 36,
    "start_time": "2022-03-13T16:16:25.116Z"
   },
   {
    "duration": 60,
    "start_time": "2022-03-13T16:20:27.863Z"
   },
   {
    "duration": 276,
    "start_time": "2022-03-13T16:20:51.546Z"
   },
   {
    "duration": 21,
    "start_time": "2022-03-13T16:20:58.942Z"
   },
   {
    "duration": 2,
    "start_time": "2022-03-13T16:22:15.880Z"
   },
   {
    "duration": 60,
    "start_time": "2022-03-13T16:22:39.341Z"
   },
   {
    "duration": 19,
    "start_time": "2022-03-13T16:22:49.268Z"
   },
   {
    "duration": 87,
    "start_time": "2022-03-13T16:23:56.427Z"
   },
   {
    "duration": 1441,
    "start_time": "2022-03-13T16:24:24.544Z"
   },
   {
    "duration": 11,
    "start_time": "2022-03-13T16:25:00.891Z"
   },
   {
    "duration": 56,
    "start_time": "2022-03-13T16:25:05.312Z"
   },
   {
    "duration": 20,
    "start_time": "2022-03-13T16:25:37.631Z"
   },
   {
    "duration": 218,
    "start_time": "2022-03-13T16:30:06.924Z"
   },
   {
    "duration": 86,
    "start_time": "2022-03-13T16:30:48.679Z"
   },
   {
    "duration": 71,
    "start_time": "2022-03-13T16:31:13.409Z"
   },
   {
    "duration": 264,
    "start_time": "2022-03-13T16:31:35.380Z"
   },
   {
    "duration": 374,
    "start_time": "2022-03-13T16:31:39.313Z"
   },
   {
    "duration": 254,
    "start_time": "2022-03-13T16:31:56.485Z"
   },
   {
    "duration": 71,
    "start_time": "2022-03-13T16:32:26.714Z"
   },
   {
    "duration": 77,
    "start_time": "2022-03-13T16:32:40.889Z"
   },
   {
    "duration": 114,
    "start_time": "2022-03-13T16:33:30.356Z"
   },
   {
    "duration": 72,
    "start_time": "2022-03-13T16:33:37.010Z"
   },
   {
    "duration": 70,
    "start_time": "2022-03-13T16:34:28.641Z"
   },
   {
    "duration": 71,
    "start_time": "2022-03-13T16:34:50.514Z"
   },
   {
    "duration": 72,
    "start_time": "2022-03-13T16:34:55.211Z"
   },
   {
    "duration": 71,
    "start_time": "2022-03-13T16:36:07.181Z"
   },
   {
    "duration": 340,
    "start_time": "2022-03-13T16:55:26.463Z"
   },
   {
    "duration": 4,
    "start_time": "2022-03-13T16:59:53.735Z"
   },
   {
    "duration": 5,
    "start_time": "2022-03-13T17:00:06.868Z"
   },
   {
    "duration": 7,
    "start_time": "2022-03-13T17:01:00.611Z"
   },
   {
    "duration": 7,
    "start_time": "2022-03-13T17:01:46.749Z"
   },
   {
    "duration": 11,
    "start_time": "2022-03-13T17:02:12.718Z"
   },
   {
    "duration": 223,
    "start_time": "2022-03-13T17:02:23.320Z"
   },
   {
    "duration": 216,
    "start_time": "2022-03-13T17:03:01.897Z"
   },
   {
    "duration": 203,
    "start_time": "2022-03-13T17:03:08.354Z"
   },
   {
    "duration": 1090,
    "start_time": "2022-03-13T17:03:22.575Z"
   },
   {
    "duration": 377,
    "start_time": "2022-03-13T17:03:23.667Z"
   },
   {
    "duration": 77,
    "start_time": "2022-03-13T17:03:24.048Z"
   },
   {
    "duration": 308,
    "start_time": "2022-03-13T17:03:24.127Z"
   },
   {
    "duration": 597,
    "start_time": "2022-03-13T17:03:23.840Z"
   },
   {
    "duration": 589,
    "start_time": "2022-03-13T17:03:23.849Z"
   },
   {
    "duration": 73,
    "start_time": "2022-03-13T17:03:54.626Z"
   },
   {
    "duration": 213,
    "start_time": "2022-03-13T17:03:57.510Z"
   },
   {
    "duration": 204,
    "start_time": "2022-03-13T17:04:08.498Z"
   },
   {
    "duration": 1228,
    "start_time": "2022-03-13T18:08:02.582Z"
   },
   {
    "duration": 421,
    "start_time": "2022-03-13T18:08:03.812Z"
   },
   {
    "duration": 52,
    "start_time": "2022-03-13T18:08:04.237Z"
   },
   {
    "duration": 33,
    "start_time": "2022-03-13T18:08:04.291Z"
   },
   {
    "duration": 5,
    "start_time": "2022-03-13T18:08:14.291Z"
   },
   {
    "duration": 13,
    "start_time": "2022-03-13T18:08:44.747Z"
   },
   {
    "duration": 314,
    "start_time": "2022-03-13T18:09:01.585Z"
   },
   {
    "duration": 4,
    "start_time": "2022-03-13T18:09:04.249Z"
   },
   {
    "duration": 228,
    "start_time": "2022-03-13T18:09:34.335Z"
   },
   {
    "duration": 11,
    "start_time": "2022-03-13T18:09:44.217Z"
   },
   {
    "duration": 289,
    "start_time": "2022-03-13T18:09:59.223Z"
   },
   {
    "duration": 283,
    "start_time": "2022-03-13T18:10:17.227Z"
   },
   {
    "duration": 288,
    "start_time": "2022-03-13T18:11:41.606Z"
   },
   {
    "duration": 279,
    "start_time": "2022-03-13T18:12:03.524Z"
   },
   {
    "duration": 289,
    "start_time": "2022-03-13T18:12:15.269Z"
   },
   {
    "duration": 123,
    "start_time": "2022-03-13T18:13:12.516Z"
   },
   {
    "duration": 125,
    "start_time": "2022-03-13T18:13:28.623Z"
   },
   {
    "duration": 8,
    "start_time": "2022-03-13T18:13:29.964Z"
   },
   {
    "duration": 131,
    "start_time": "2022-03-13T18:16:20.627Z"
   },
   {
    "duration": 126,
    "start_time": "2022-03-13T18:19:12.731Z"
   },
   {
    "duration": 371,
    "start_time": "2022-03-13T18:20:49.236Z"
   },
   {
    "duration": 365,
    "start_time": "2022-03-13T18:21:04.937Z"
   },
   {
    "duration": 353,
    "start_time": "2022-03-13T18:21:17.509Z"
   },
   {
    "duration": 349,
    "start_time": "2022-03-13T18:21:52.645Z"
   },
   {
    "duration": 11,
    "start_time": "2022-03-13T18:22:24.266Z"
   },
   {
    "duration": 313,
    "start_time": "2022-03-13T18:22:28.643Z"
   },
   {
    "duration": 322,
    "start_time": "2022-03-13T18:22:32.762Z"
   },
   {
    "duration": 578,
    "start_time": "2022-03-13T18:23:15.354Z"
   },
   {
    "duration": 343,
    "start_time": "2022-03-13T18:23:48.311Z"
   },
   {
    "duration": 547,
    "start_time": "2022-03-13T18:24:08.334Z"
   },
   {
    "duration": 650,
    "start_time": "2022-03-13T18:24:34.863Z"
   },
   {
    "duration": 609,
    "start_time": "2022-03-13T18:24:53.955Z"
   },
   {
    "duration": 634,
    "start_time": "2022-03-13T18:25:09.764Z"
   },
   {
    "duration": 350,
    "start_time": "2022-03-13T18:25:21.540Z"
   },
   {
    "duration": 352,
    "start_time": "2022-03-13T18:25:29.932Z"
   },
   {
    "duration": 694,
    "start_time": "2022-03-13T18:27:04.338Z"
   },
   {
    "duration": 519,
    "start_time": "2022-03-13T18:27:46.795Z"
   },
   {
    "duration": 514,
    "start_time": "2022-03-13T18:28:38.468Z"
   },
   {
    "duration": 539,
    "start_time": "2022-03-13T18:28:42.817Z"
   },
   {
    "duration": 336,
    "start_time": "2022-03-13T18:28:59.718Z"
   },
   {
    "duration": 234,
    "start_time": "2022-03-13T18:30:51.515Z"
   },
   {
    "duration": 453,
    "start_time": "2022-03-13T18:31:18.206Z"
   },
   {
    "duration": 317,
    "start_time": "2022-03-13T18:36:56.160Z"
   },
   {
    "duration": 431,
    "start_time": "2022-03-13T18:37:44.683Z"
   },
   {
    "duration": 493,
    "start_time": "2022-03-13T18:37:50.071Z"
   },
   {
    "duration": 10,
    "start_time": "2022-03-13T18:38:38.325Z"
   },
   {
    "duration": 226,
    "start_time": "2022-03-13T18:39:13.841Z"
   },
   {
    "duration": 281,
    "start_time": "2022-03-13T18:39:38.634Z"
   },
   {
    "duration": 50,
    "start_time": "2022-03-13T18:39:47.151Z"
   },
   {
    "duration": 9,
    "start_time": "2022-03-13T18:39:55.762Z"
   },
   {
    "duration": 452,
    "start_time": "2022-03-13T18:40:18.302Z"
   },
   {
    "duration": 398,
    "start_time": "2022-03-13T18:40:22.105Z"
   },
   {
    "duration": 24,
    "start_time": "2022-03-13T18:41:43.576Z"
   },
   {
    "duration": 33,
    "start_time": "2022-03-13T18:44:09.678Z"
   },
   {
    "duration": 28,
    "start_time": "2022-03-13T18:44:18.251Z"
   },
   {
    "duration": 445,
    "start_time": "2022-03-13T18:48:24.816Z"
   },
   {
    "duration": 519,
    "start_time": "2022-03-13T18:50:24.389Z"
   },
   {
    "duration": 459,
    "start_time": "2022-03-13T18:50:43.293Z"
   },
   {
    "duration": 458,
    "start_time": "2022-03-13T18:51:10.699Z"
   },
   {
    "duration": 468,
    "start_time": "2022-03-13T18:51:21.469Z"
   },
   {
    "duration": 431,
    "start_time": "2022-03-13T18:51:43.568Z"
   },
   {
    "duration": 625,
    "start_time": "2022-03-13T18:53:01.940Z"
   },
   {
    "duration": 551,
    "start_time": "2022-03-13T18:53:09.593Z"
   },
   {
    "duration": 5193,
    "start_time": "2022-03-13T18:58:10.097Z"
   },
   {
    "duration": 5231,
    "start_time": "2022-03-13T19:01:27.493Z"
   },
   {
    "duration": 10,
    "start_time": "2022-03-13T19:02:12.668Z"
   },
   {
    "duration": 224,
    "start_time": "2022-03-13T19:02:32.014Z"
   },
   {
    "duration": 229,
    "start_time": "2022-03-13T19:02:35.600Z"
   },
   {
    "duration": 10,
    "start_time": "2022-03-13T19:03:32.742Z"
   },
   {
    "duration": 10,
    "start_time": "2022-03-13T19:03:43.096Z"
   },
   {
    "duration": 9,
    "start_time": "2022-03-13T19:04:08.483Z"
   },
   {
    "duration": 433,
    "start_time": "2022-03-13T19:08:34.841Z"
   },
   {
    "duration": 453,
    "start_time": "2022-03-13T19:09:31.977Z"
   },
   {
    "duration": 667,
    "start_time": "2022-03-13T19:11:07.328Z"
   },
   {
    "duration": 435,
    "start_time": "2022-03-13T19:11:21.311Z"
   },
   {
    "duration": 426,
    "start_time": "2022-03-13T19:11:26.550Z"
   },
   {
    "duration": 459,
    "start_time": "2022-03-13T19:11:32.261Z"
   },
   {
    "duration": 432,
    "start_time": "2022-03-13T19:11:48.339Z"
   },
   {
    "duration": 436,
    "start_time": "2022-03-13T19:12:00.773Z"
   },
   {
    "duration": 550,
    "start_time": "2022-03-13T19:15:03.331Z"
   },
   {
    "duration": 596,
    "start_time": "2022-03-13T19:15:22.192Z"
   },
   {
    "duration": 67,
    "start_time": "2022-03-13T19:16:15.867Z"
   },
   {
    "duration": 600,
    "start_time": "2022-03-13T19:16:27.547Z"
   },
   {
    "duration": 654,
    "start_time": "2022-03-13T19:17:12.648Z"
   },
   {
    "duration": 572,
    "start_time": "2022-03-13T19:17:18.202Z"
   },
   {
    "duration": 567,
    "start_time": "2022-03-13T19:18:06.835Z"
   },
   {
    "duration": 557,
    "start_time": "2022-03-13T19:18:16.810Z"
   },
   {
    "duration": 5188,
    "start_time": "2022-03-13T19:21:08.104Z"
   },
   {
    "duration": 406,
    "start_time": "2022-03-13T19:21:40.241Z"
   },
   {
    "duration": 643,
    "start_time": "2022-03-13T19:22:42.286Z"
   },
   {
    "duration": 10,
    "start_time": "2022-03-13T19:22:58.518Z"
   },
   {
    "duration": 139,
    "start_time": "2022-03-13T19:24:18.706Z"
   },
   {
    "duration": 594,
    "start_time": "2022-03-13T19:24:56.236Z"
   },
   {
    "duration": 5,
    "start_time": "2022-03-13T19:27:27.931Z"
   },
   {
    "duration": 4,
    "start_time": "2022-03-13T19:29:55.088Z"
   },
   {
    "duration": 428,
    "start_time": "2022-03-13T19:30:58.681Z"
   },
   {
    "duration": 667,
    "start_time": "2022-03-13T19:31:32.286Z"
   },
   {
    "duration": 5,
    "start_time": "2022-03-13T19:33:24.690Z"
   },
   {
    "duration": 6,
    "start_time": "2022-03-13T19:36:23.052Z"
   },
   {
    "duration": 6,
    "start_time": "2022-03-13T19:36:33.242Z"
   },
   {
    "duration": 6,
    "start_time": "2022-03-13T19:36:44.220Z"
   },
   {
    "duration": 961,
    "start_time": "2022-03-13T19:37:22.683Z"
   },
   {
    "duration": 628,
    "start_time": "2022-03-13T19:37:39.906Z"
   },
   {
    "duration": 291,
    "start_time": "2022-03-13T19:48:26.603Z"
   },
   {
    "duration": 6,
    "start_time": "2022-03-13T19:53:26.214Z"
   },
   {
    "duration": 6,
    "start_time": "2022-03-13T19:53:37.460Z"
   },
   {
    "duration": 5,
    "start_time": "2022-03-13T19:53:44.081Z"
   },
   {
    "duration": 130,
    "start_time": "2022-03-13T19:54:56.281Z"
   },
   {
    "duration": 353,
    "start_time": "2022-03-13T19:56:23.043Z"
   },
   {
    "duration": 82,
    "start_time": "2022-03-13T20:01:04.668Z"
   },
   {
    "duration": 141,
    "start_time": "2022-03-13T20:01:32.481Z"
   },
   {
    "duration": 173,
    "start_time": "2022-03-13T20:01:42.908Z"
   },
   {
    "duration": 137,
    "start_time": "2022-03-13T20:02:50.286Z"
   },
   {
    "duration": 12,
    "start_time": "2022-03-13T20:05:48.716Z"
   },
   {
    "duration": 135,
    "start_time": "2022-03-13T20:06:37.228Z"
   },
   {
    "duration": 136,
    "start_time": "2022-03-13T20:08:21.512Z"
   },
   {
    "duration": 148,
    "start_time": "2022-03-13T20:08:36.547Z"
   },
   {
    "duration": 129,
    "start_time": "2022-03-13T20:11:22.020Z"
   },
   {
    "duration": 137,
    "start_time": "2022-03-13T20:14:10.271Z"
   },
   {
    "duration": 220,
    "start_time": "2022-03-13T20:15:37.505Z"
   },
   {
    "duration": 13,
    "start_time": "2022-03-13T20:16:30.198Z"
   },
   {
    "duration": 11,
    "start_time": "2022-03-13T20:28:03.381Z"
   },
   {
    "duration": 471,
    "start_time": "2022-03-13T20:28:16.189Z"
   },
   {
    "duration": 9,
    "start_time": "2022-03-13T20:28:26.276Z"
   },
   {
    "duration": 125,
    "start_time": "2022-03-13T20:28:29.650Z"
   },
   {
    "duration": 10,
    "start_time": "2022-03-13T20:29:49.483Z"
   },
   {
    "duration": 149,
    "start_time": "2022-03-13T20:29:52.672Z"
   },
   {
    "duration": 8,
    "start_time": "2022-03-13T21:21:52.944Z"
   },
   {
    "duration": 127,
    "start_time": "2022-03-13T21:53:28.205Z"
   },
   {
    "duration": 217,
    "start_time": "2022-03-13T21:53:37.368Z"
   },
   {
    "duration": 82,
    "start_time": "2022-03-13T21:54:12.576Z"
   },
   {
    "duration": 228,
    "start_time": "2022-03-13T21:54:21.503Z"
   },
   {
    "duration": 242,
    "start_time": "2022-03-13T21:54:55.752Z"
   },
   {
    "duration": 80,
    "start_time": "2022-03-13T21:56:26.601Z"
   },
   {
    "duration": 83,
    "start_time": "2022-03-13T21:57:03.074Z"
   },
   {
    "duration": 19,
    "start_time": "2022-03-13T21:57:34.142Z"
   },
   {
    "duration": 812,
    "start_time": "2022-03-13T21:57:42.543Z"
   },
   {
    "duration": 18,
    "start_time": "2022-03-13T21:58:49.141Z"
   },
   {
    "duration": 837,
    "start_time": "2022-03-13T21:58:52.590Z"
   },
   {
    "duration": 19,
    "start_time": "2022-03-13T21:59:33.276Z"
   },
   {
    "duration": 17,
    "start_time": "2022-03-13T21:59:37.895Z"
   },
   {
    "duration": 412,
    "start_time": "2022-03-13T21:59:46.445Z"
   },
   {
    "duration": 18,
    "start_time": "2022-03-13T22:00:34.107Z"
   },
   {
    "duration": 387,
    "start_time": "2022-03-13T22:00:37.814Z"
   },
   {
    "duration": 18,
    "start_time": "2022-03-13T22:03:53.789Z"
   },
   {
    "duration": 13,
    "start_time": "2022-03-13T22:06:39.401Z"
   },
   {
    "duration": 12,
    "start_time": "2022-03-13T22:07:27.800Z"
   },
   {
    "duration": 6,
    "start_time": "2022-03-13T22:08:35.990Z"
   },
   {
    "duration": 7,
    "start_time": "2022-03-13T22:09:20.574Z"
   },
   {
    "duration": 225,
    "start_time": "2022-03-13T22:09:48.174Z"
   },
   {
    "duration": 7,
    "start_time": "2022-03-13T22:10:00.569Z"
   },
   {
    "duration": 5,
    "start_time": "2022-03-13T22:10:23.082Z"
   },
   {
    "duration": 8,
    "start_time": "2022-03-13T22:10:41.627Z"
   },
   {
    "duration": 7,
    "start_time": "2022-03-13T22:10:54.644Z"
   },
   {
    "duration": 8,
    "start_time": "2022-03-13T22:12:14.996Z"
   },
   {
    "duration": 8,
    "start_time": "2022-03-13T22:12:41.478Z"
   },
   {
    "duration": 8,
    "start_time": "2022-03-13T22:13:35.970Z"
   },
   {
    "duration": 3,
    "start_time": "2022-03-13T22:15:46.148Z"
   },
   {
    "duration": 5,
    "start_time": "2022-03-13T22:15:57.027Z"
   },
   {
    "duration": 5,
    "start_time": "2022-03-13T22:16:12.498Z"
   },
   {
    "duration": 5,
    "start_time": "2022-03-13T22:18:51.333Z"
   },
   {
    "duration": 5,
    "start_time": "2022-03-13T22:19:35.716Z"
   },
   {
    "duration": 6,
    "start_time": "2022-03-13T22:20:55.778Z"
   },
   {
    "duration": 6,
    "start_time": "2022-03-13T22:21:07.842Z"
   },
   {
    "duration": 219,
    "start_time": "2022-03-13T22:21:13.933Z"
   },
   {
    "duration": 6,
    "start_time": "2022-03-13T22:21:19.409Z"
   },
   {
    "duration": 5,
    "start_time": "2022-03-13T22:21:50.558Z"
   },
   {
    "duration": 4,
    "start_time": "2022-03-13T22:24:11.457Z"
   },
   {
    "duration": 238,
    "start_time": "2022-03-13T22:25:25.289Z"
   },
   {
    "duration": 222,
    "start_time": "2022-03-13T22:26:07.652Z"
   },
   {
    "duration": 407,
    "start_time": "2022-03-13T22:26:17.630Z"
   },
   {
    "duration": 234,
    "start_time": "2022-03-13T22:26:33.435Z"
   },
   {
    "duration": 226,
    "start_time": "2022-03-13T22:26:44.648Z"
   },
   {
    "duration": 11,
    "start_time": "2022-03-13T22:32:55.318Z"
   },
   {
    "duration": 10,
    "start_time": "2022-03-13T22:33:49.027Z"
   },
   {
    "duration": 11,
    "start_time": "2022-03-13T22:34:14.208Z"
   },
   {
    "duration": 10,
    "start_time": "2022-03-13T22:34:26.860Z"
   },
   {
    "duration": 9,
    "start_time": "2022-03-13T22:35:21.327Z"
   },
   {
    "duration": 17,
    "start_time": "2022-03-13T22:37:07.226Z"
   },
   {
    "duration": 6,
    "start_time": "2022-03-13T22:38:53.527Z"
   },
   {
    "duration": 14,
    "start_time": "2022-03-13T22:39:10.475Z"
   },
   {
    "duration": 13,
    "start_time": "2022-03-13T22:39:57.405Z"
   },
   {
    "duration": 6,
    "start_time": "2022-03-13T22:41:09.899Z"
   },
   {
    "duration": 14,
    "start_time": "2022-03-13T22:41:19.710Z"
   },
   {
    "duration": 6,
    "start_time": "2022-03-13T22:42:23.315Z"
   },
   {
    "duration": 13,
    "start_time": "2022-03-13T22:42:26.477Z"
   },
   {
    "duration": 14,
    "start_time": "2022-03-13T22:42:41.052Z"
   },
   {
    "duration": 376,
    "start_time": "2022-03-14T11:03:52.599Z"
   },
   {
    "duration": 1396,
    "start_time": "2022-03-14T11:04:02.061Z"
   },
   {
    "duration": 637,
    "start_time": "2022-03-14T11:04:03.460Z"
   },
   {
    "duration": 33,
    "start_time": "2022-03-14T11:04:04.100Z"
   },
   {
    "duration": 60,
    "start_time": "2022-03-14T11:04:04.136Z"
   },
   {
    "duration": 17,
    "start_time": "2022-03-14T11:04:04.199Z"
   },
   {
    "duration": 13,
    "start_time": "2022-03-14T11:04:04.218Z"
   },
   {
    "duration": 590,
    "start_time": "2022-03-14T11:04:04.234Z"
   },
   {
    "duration": 665,
    "start_time": "2022-03-14T11:04:04.828Z"
   },
   {
    "duration": 634,
    "start_time": "2022-03-14T11:04:05.496Z"
   },
   {
    "duration": 810,
    "start_time": "2022-03-14T11:04:06.133Z"
   },
   {
    "duration": 621,
    "start_time": "2022-03-14T11:04:06.946Z"
   },
   {
    "duration": 760,
    "start_time": "2022-03-14T11:04:07.569Z"
   },
   {
    "duration": 192,
    "start_time": "2022-03-14T11:04:08.332Z"
   },
   {
    "duration": 836,
    "start_time": "2022-03-14T11:04:08.527Z"
   },
   {
    "duration": 17,
    "start_time": "2022-03-14T11:04:09.366Z"
   },
   {
    "duration": 18,
    "start_time": "2022-03-14T11:04:09.385Z"
   },
   {
    "duration": 32,
    "start_time": "2022-03-14T11:04:09.406Z"
   },
   {
    "duration": 955,
    "start_time": "2022-03-14T11:04:09.440Z"
   },
   {
    "duration": 6,
    "start_time": "2022-03-14T11:04:10.398Z"
   },
   {
    "duration": 410,
    "start_time": "2022-03-14T11:04:10.406Z"
   },
   {
    "duration": 217,
    "start_time": "2022-03-14T11:04:10.601Z"
   },
   {
    "duration": 213,
    "start_time": "2022-03-14T11:04:10.607Z"
   },
   {
    "duration": 213,
    "start_time": "2022-03-14T11:04:10.609Z"
   },
   {
    "duration": 211,
    "start_time": "2022-03-14T11:04:10.612Z"
   },
   {
    "duration": 211,
    "start_time": "2022-03-14T11:04:10.614Z"
   },
   {
    "duration": 211,
    "start_time": "2022-03-14T11:04:10.616Z"
   },
   {
    "duration": 211,
    "start_time": "2022-03-14T11:04:10.618Z"
   },
   {
    "duration": 657,
    "start_time": "2022-03-14T11:05:47.103Z"
   },
   {
    "duration": 697,
    "start_time": "2022-03-14T11:07:00.185Z"
   },
   {
    "duration": 750,
    "start_time": "2022-03-14T11:07:10.391Z"
   },
   {
    "duration": 630,
    "start_time": "2022-03-14T11:07:26.407Z"
   },
   {
    "duration": 1305,
    "start_time": "2022-03-14T11:08:37.144Z"
   },
   {
    "duration": 634,
    "start_time": "2022-03-14T11:08:38.452Z"
   },
   {
    "duration": 32,
    "start_time": "2022-03-14T11:08:39.090Z"
   },
   {
    "duration": 45,
    "start_time": "2022-03-14T11:08:39.125Z"
   },
   {
    "duration": 14,
    "start_time": "2022-03-14T11:08:39.172Z"
   },
   {
    "duration": 31,
    "start_time": "2022-03-14T11:08:39.188Z"
   },
   {
    "duration": 566,
    "start_time": "2022-03-14T11:08:39.222Z"
   },
   {
    "duration": 677,
    "start_time": "2022-03-14T11:08:39.792Z"
   },
   {
    "duration": 619,
    "start_time": "2022-03-14T11:08:40.473Z"
   },
   {
    "duration": 771,
    "start_time": "2022-03-14T11:08:41.094Z"
   },
   {
    "duration": 633,
    "start_time": "2022-03-14T11:08:41.868Z"
   },
   {
    "duration": 727,
    "start_time": "2022-03-14T11:08:42.505Z"
   },
   {
    "duration": 195,
    "start_time": "2022-03-14T11:08:43.235Z"
   },
   {
    "duration": 935,
    "start_time": "2022-03-14T11:08:43.433Z"
   },
   {
    "duration": 12,
    "start_time": "2022-03-14T11:08:44.371Z"
   },
   {
    "duration": 45,
    "start_time": "2022-03-14T11:08:44.386Z"
   },
   {
    "duration": 28,
    "start_time": "2022-03-14T11:08:44.434Z"
   },
   {
    "duration": 1117,
    "start_time": "2022-03-14T11:08:44.465Z"
   },
   {
    "duration": 8,
    "start_time": "2022-03-14T11:08:45.585Z"
   },
   {
    "duration": 523,
    "start_time": "2022-03-14T11:08:45.596Z"
   },
   {
    "duration": 227,
    "start_time": "2022-03-14T11:08:46.121Z"
   },
   {
    "duration": 11,
    "start_time": "2022-03-14T11:08:46.351Z"
   },
   {
    "duration": 52,
    "start_time": "2022-03-14T11:08:46.367Z"
   },
   {
    "duration": 26,
    "start_time": "2022-03-14T11:08:46.422Z"
   },
   {
    "duration": 35,
    "start_time": "2022-03-14T11:08:46.450Z"
   },
   {
    "duration": 26,
    "start_time": "2022-03-14T11:08:46.488Z"
   },
   {
    "duration": 6,
    "start_time": "2022-03-14T11:16:19.423Z"
   },
   {
    "duration": 15,
    "start_time": "2022-03-14T11:17:25.305Z"
   },
   {
    "duration": 12,
    "start_time": "2022-03-14T11:17:35.112Z"
   },
   {
    "duration": 18,
    "start_time": "2022-03-14T11:17:41.422Z"
   },
   {
    "duration": 1416,
    "start_time": "2022-03-14T11:21:03.051Z"
   },
   {
    "duration": 655,
    "start_time": "2022-03-14T11:21:04.470Z"
   },
   {
    "duration": 33,
    "start_time": "2022-03-14T11:21:05.129Z"
   },
   {
    "duration": 43,
    "start_time": "2022-03-14T11:21:05.164Z"
   },
   {
    "duration": 14,
    "start_time": "2022-03-14T11:21:05.209Z"
   },
   {
    "duration": 11,
    "start_time": "2022-03-14T11:21:05.226Z"
   },
   {
    "duration": 597,
    "start_time": "2022-03-14T11:21:05.239Z"
   },
   {
    "duration": 709,
    "start_time": "2022-03-14T11:21:05.840Z"
   },
   {
    "duration": 659,
    "start_time": "2022-03-14T11:21:06.552Z"
   },
   {
    "duration": 787,
    "start_time": "2022-03-14T11:21:07.213Z"
   },
   {
    "duration": 634,
    "start_time": "2022-03-14T11:21:08.003Z"
   },
   {
    "duration": 807,
    "start_time": "2022-03-14T11:21:08.640Z"
   },
   {
    "duration": 219,
    "start_time": "2022-03-14T11:21:09.449Z"
   },
   {
    "duration": 886,
    "start_time": "2022-03-14T11:21:09.671Z"
   },
   {
    "duration": 7,
    "start_time": "2022-03-14T11:21:10.559Z"
   },
   {
    "duration": 12,
    "start_time": "2022-03-14T11:21:10.583Z"
   },
   {
    "duration": 7,
    "start_time": "2022-03-14T11:21:10.598Z"
   },
   {
    "duration": 1078,
    "start_time": "2022-03-14T11:21:10.608Z"
   },
   {
    "duration": 6,
    "start_time": "2022-03-14T11:21:11.689Z"
   },
   {
    "duration": 8,
    "start_time": "2022-03-14T11:21:11.697Z"
   },
   {
    "duration": 487,
    "start_time": "2022-03-14T11:21:11.707Z"
   },
   {
    "duration": 226,
    "start_time": "2022-03-14T11:21:12.197Z"
   },
   {
    "duration": 8,
    "start_time": "2022-03-14T11:21:12.428Z"
   },
   {
    "duration": 49,
    "start_time": "2022-03-14T11:21:12.439Z"
   },
   {
    "duration": 21,
    "start_time": "2022-03-14T11:21:12.491Z"
   },
   {
    "duration": 22,
    "start_time": "2022-03-14T11:21:12.514Z"
   },
   {
    "duration": 28,
    "start_time": "2022-03-14T11:21:12.539Z"
   },
   {
    "duration": 9,
    "start_time": "2022-03-14T11:25:10.451Z"
   },
   {
    "duration": 17,
    "start_time": "2022-03-14T11:25:17.670Z"
   },
   {
    "duration": 11,
    "start_time": "2022-03-14T11:25:37.431Z"
   },
   {
    "duration": 6,
    "start_time": "2022-03-14T11:27:08.955Z"
   },
   {
    "duration": 7,
    "start_time": "2022-03-14T11:27:11.814Z"
   },
   {
    "duration": 417,
    "start_time": "2022-03-14T11:27:23.240Z"
   },
   {
    "duration": 6,
    "start_time": "2022-03-14T11:27:25.903Z"
   },
   {
    "duration": 5,
    "start_time": "2022-03-14T11:27:29.366Z"
   },
   {
    "duration": 6,
    "start_time": "2022-03-14T11:27:33.196Z"
   },
   {
    "duration": 8,
    "start_time": "2022-03-14T11:27:41.594Z"
   },
   {
    "duration": 19,
    "start_time": "2022-03-14T11:27:47.972Z"
   },
   {
    "duration": 13,
    "start_time": "2022-03-14T13:10:16.792Z"
   },
   {
    "duration": 18,
    "start_time": "2022-03-14T13:10:37.608Z"
   },
   {
    "duration": 18,
    "start_time": "2022-03-14T13:10:46.020Z"
   },
   {
    "duration": 15,
    "start_time": "2022-03-14T13:11:10.070Z"
   },
   {
    "duration": 409,
    "start_time": "2022-03-14T13:11:28.220Z"
   },
   {
    "duration": 23,
    "start_time": "2022-03-14T13:11:32.548Z"
   },
   {
    "duration": 397,
    "start_time": "2022-03-14T13:11:49.810Z"
   },
   {
    "duration": 382,
    "start_time": "2022-03-14T13:11:53.267Z"
   },
   {
    "duration": 20,
    "start_time": "2022-03-14T13:12:25.130Z"
   },
   {
    "duration": 758,
    "start_time": "2022-03-14T13:16:37.588Z"
   },
   {
    "duration": 14,
    "start_time": "2022-03-14T13:18:10.815Z"
   },
   {
    "duration": 22,
    "start_time": "2022-03-14T13:18:35.305Z"
   },
   {
    "duration": 14,
    "start_time": "2022-03-14T13:18:42.074Z"
   },
   {
    "duration": 13,
    "start_time": "2022-03-14T13:18:53.225Z"
   },
   {
    "duration": 14,
    "start_time": "2022-03-14T13:19:11.292Z"
   },
   {
    "duration": 12,
    "start_time": "2022-03-14T13:30:31.667Z"
   },
   {
    "duration": 257,
    "start_time": "2022-03-14T13:32:06.015Z"
   },
   {
    "duration": 34,
    "start_time": "2022-03-14T13:32:11.496Z"
   },
   {
    "duration": 35,
    "start_time": "2022-03-14T13:32:23.507Z"
   },
   {
    "duration": 289,
    "start_time": "2022-03-14T13:33:00.329Z"
   },
   {
    "duration": 250,
    "start_time": "2022-03-14T13:34:20.749Z"
   },
   {
    "duration": 272,
    "start_time": "2022-03-14T13:34:59.785Z"
   },
   {
    "duration": 261,
    "start_time": "2022-03-14T13:35:10.076Z"
   },
   {
    "duration": 238,
    "start_time": "2022-03-14T13:35:47.578Z"
   },
   {
    "duration": 14,
    "start_time": "2022-03-14T13:36:05.480Z"
   },
   {
    "duration": 313,
    "start_time": "2022-03-14T13:36:21.621Z"
   },
   {
    "duration": 247,
    "start_time": "2022-03-14T13:36:44.453Z"
   },
   {
    "duration": 46,
    "start_time": "2022-03-14T13:38:12.766Z"
   },
   {
    "duration": 29,
    "start_time": "2022-03-14T13:40:28.312Z"
   },
   {
    "duration": 28,
    "start_time": "2022-03-14T13:40:42.491Z"
   },
   {
    "duration": 27,
    "start_time": "2022-03-14T13:40:45.483Z"
   },
   {
    "duration": 13,
    "start_time": "2022-03-14T13:40:54.914Z"
   },
   {
    "duration": 13,
    "start_time": "2022-03-14T13:41:17.427Z"
   },
   {
    "duration": 74,
    "start_time": "2022-03-14T13:42:18.051Z"
   },
   {
    "duration": 272,
    "start_time": "2022-03-14T13:42:36.619Z"
   },
   {
    "duration": 145,
    "start_time": "2022-03-14T13:42:44.430Z"
   },
   {
    "duration": 6083,
    "start_time": "2022-03-14T13:42:49.210Z"
   },
   {
    "duration": 24,
    "start_time": "2022-03-14T13:42:57.139Z"
   },
   {
    "duration": 22,
    "start_time": "2022-03-14T13:43:07.027Z"
   },
   {
    "duration": 26,
    "start_time": "2022-03-14T13:43:46.091Z"
   },
   {
    "duration": 35,
    "start_time": "2022-03-14T13:44:02.635Z"
   },
   {
    "duration": 41,
    "start_time": "2022-03-14T13:44:13.045Z"
   },
   {
    "duration": 280,
    "start_time": "2022-03-14T13:44:57.314Z"
   },
   {
    "duration": 19,
    "start_time": "2022-03-14T13:45:30.111Z"
   },
   {
    "duration": 22,
    "start_time": "2022-03-14T13:45:49.804Z"
   },
   {
    "duration": 7420,
    "start_time": "2022-03-14T13:46:01.927Z"
   },
   {
    "duration": 335,
    "start_time": "2022-03-14T13:46:16.537Z"
   },
   {
    "duration": 26,
    "start_time": "2022-03-14T13:46:23.265Z"
   },
   {
    "duration": 37,
    "start_time": "2022-03-14T13:47:01.443Z"
   },
   {
    "duration": 20,
    "start_time": "2022-03-14T13:47:10.427Z"
   },
   {
    "duration": 76,
    "start_time": "2022-03-14T13:47:19.616Z"
   },
   {
    "duration": 565,
    "start_time": "2022-03-14T13:47:40.769Z"
   },
   {
    "duration": 760,
    "start_time": "2022-03-14T13:47:55.637Z"
   },
   {
    "duration": 1038,
    "start_time": "2022-03-14T13:48:00.844Z"
   },
   {
    "duration": 53,
    "start_time": "2022-03-14T13:48:37.243Z"
   },
   {
    "duration": 274,
    "start_time": "2022-03-14T13:49:11.976Z"
   },
   {
    "duration": 327,
    "start_time": "2022-03-14T13:49:56.797Z"
   },
   {
    "duration": 333,
    "start_time": "2022-03-14T13:50:30.808Z"
   },
   {
    "duration": 321,
    "start_time": "2022-03-14T13:50:44.191Z"
   },
   {
    "duration": 812,
    "start_time": "2022-03-14T13:51:54.772Z"
   },
   {
    "duration": 60,
    "start_time": "2022-03-14T13:52:14.225Z"
   },
   {
    "duration": 274,
    "start_time": "2022-03-14T13:53:59.360Z"
   },
   {
    "duration": 42,
    "start_time": "2022-03-14T13:54:56.037Z"
   },
   {
    "duration": 51,
    "start_time": "2022-03-14T13:55:05.404Z"
   },
   {
    "duration": 47,
    "start_time": "2022-03-14T13:57:08.618Z"
   },
   {
    "duration": 48,
    "start_time": "2022-03-14T13:57:32.046Z"
   },
   {
    "duration": 748,
    "start_time": "2022-03-14T13:58:01.310Z"
   },
   {
    "duration": 13,
    "start_time": "2022-03-14T14:00:23.447Z"
   },
   {
    "duration": 13,
    "start_time": "2022-03-14T14:00:36.053Z"
   },
   {
    "duration": 10,
    "start_time": "2022-03-14T14:01:01.076Z"
   },
   {
    "duration": 53,
    "start_time": "2022-03-14T14:01:30.028Z"
   },
   {
    "duration": 52,
    "start_time": "2022-03-14T14:01:49.666Z"
   },
   {
    "duration": 10,
    "start_time": "2022-03-14T14:01:57.147Z"
   },
   {
    "duration": 766,
    "start_time": "2022-03-14T14:06:49.027Z"
   },
   {
    "duration": 789,
    "start_time": "2022-03-14T14:07:28.615Z"
   },
   {
    "duration": 762,
    "start_time": "2022-03-14T14:07:49.639Z"
   },
   {
    "duration": 813,
    "start_time": "2022-03-14T14:11:07.625Z"
   },
   {
    "duration": 51,
    "start_time": "2022-03-14T14:11:16.600Z"
   },
   {
    "duration": 81,
    "start_time": "2022-03-14T14:12:18.673Z"
   },
   {
    "duration": 783,
    "start_time": "2022-03-14T14:12:24.133Z"
   },
   {
    "duration": 11,
    "start_time": "2022-03-14T14:14:18.521Z"
   },
   {
    "duration": 13,
    "start_time": "2022-03-14T14:15:03.408Z"
   },
   {
    "duration": 91,
    "start_time": "2022-03-14T14:21:34.216Z"
   },
   {
    "duration": 831,
    "start_time": "2022-03-14T14:21:45.074Z"
   },
   {
    "duration": 810,
    "start_time": "2022-03-14T14:23:35.289Z"
   },
   {
    "duration": 61,
    "start_time": "2022-03-14T14:27:04.561Z"
   },
   {
    "duration": 142,
    "start_time": "2022-03-14T14:27:55.553Z"
   },
   {
    "duration": 74,
    "start_time": "2022-03-14T14:29:44.252Z"
   },
   {
    "duration": 60,
    "start_time": "2022-03-14T14:29:59.506Z"
   },
   {
    "duration": 821,
    "start_time": "2022-03-14T14:30:06.711Z"
   },
   {
    "duration": 7,
    "start_time": "2022-03-14T14:31:04.631Z"
   },
   {
    "duration": 15,
    "start_time": "2022-03-14T14:31:32.530Z"
   },
   {
    "duration": 12,
    "start_time": "2022-03-14T14:31:46.073Z"
   },
   {
    "duration": 7,
    "start_time": "2022-03-14T14:32:00.967Z"
   },
   {
    "duration": 14,
    "start_time": "2022-03-14T14:32:40.885Z"
   },
   {
    "duration": 1657,
    "start_time": "2022-03-14T14:33:31.653Z"
   },
   {
    "duration": 1317,
    "start_time": "2022-03-14T14:33:33.312Z"
   },
   {
    "duration": 33,
    "start_time": "2022-03-14T14:33:34.633Z"
   },
   {
    "duration": 41,
    "start_time": "2022-03-14T14:33:34.669Z"
   },
   {
    "duration": 16,
    "start_time": "2022-03-14T14:33:34.713Z"
   },
   {
    "duration": 16,
    "start_time": "2022-03-14T14:33:34.732Z"
   },
   {
    "duration": 610,
    "start_time": "2022-03-14T14:33:34.782Z"
   },
   {
    "duration": 719,
    "start_time": "2022-03-14T14:33:35.396Z"
   },
   {
    "duration": 668,
    "start_time": "2022-03-14T14:33:36.118Z"
   },
   {
    "duration": 31,
    "start_time": "2022-03-14T14:33:36.789Z"
   },
   {
    "duration": 882,
    "start_time": "2022-03-14T14:33:36.824Z"
   },
   {
    "duration": 653,
    "start_time": "2022-03-14T14:33:37.709Z"
   },
   {
    "duration": 24,
    "start_time": "2022-03-14T14:33:38.365Z"
   },
   {
    "duration": 783,
    "start_time": "2022-03-14T14:33:38.392Z"
   },
   {
    "duration": 197,
    "start_time": "2022-03-14T14:33:39.178Z"
   },
   {
    "duration": 887,
    "start_time": "2022-03-14T14:33:39.381Z"
   },
   {
    "duration": 13,
    "start_time": "2022-03-14T14:33:40.270Z"
   },
   {
    "duration": 11,
    "start_time": "2022-03-14T14:33:40.285Z"
   },
   {
    "duration": 5,
    "start_time": "2022-03-14T14:33:40.299Z"
   },
   {
    "duration": 971,
    "start_time": "2022-03-14T14:33:40.307Z"
   },
   {
    "duration": 5,
    "start_time": "2022-03-14T14:33:41.283Z"
   },
   {
    "duration": 29,
    "start_time": "2022-03-14T14:33:41.291Z"
   },
   {
    "duration": 447,
    "start_time": "2022-03-14T14:33:41.324Z"
   },
   {
    "duration": 209,
    "start_time": "2022-03-14T14:33:41.773Z"
   },
   {
    "duration": 8,
    "start_time": "2022-03-14T14:33:41.984Z"
   },
   {
    "duration": 30,
    "start_time": "2022-03-14T14:33:41.994Z"
   },
   {
    "duration": 15,
    "start_time": "2022-03-14T14:33:42.026Z"
   },
   {
    "duration": 33,
    "start_time": "2022-03-14T14:33:42.043Z"
   },
   {
    "duration": 14,
    "start_time": "2022-03-14T14:33:42.079Z"
   },
   {
    "duration": 21,
    "start_time": "2022-03-14T14:33:42.096Z"
   },
   {
    "duration": 75,
    "start_time": "2022-03-14T14:33:42.120Z"
   },
   {
    "duration": 822,
    "start_time": "2022-03-14T14:33:42.199Z"
   },
   {
    "duration": 15,
    "start_time": "2022-03-14T14:33:43.024Z"
   },
   {
    "duration": 673,
    "start_time": "2022-03-14T14:37:08.469Z"
   },
   {
    "duration": 65,
    "start_time": "2022-03-14T14:38:39.035Z"
   },
   {
    "duration": 793,
    "start_time": "2022-03-14T14:38:44.317Z"
   },
   {
    "duration": 795,
    "start_time": "2022-03-14T14:39:09.462Z"
   },
   {
    "duration": 788,
    "start_time": "2022-03-14T14:39:34.757Z"
   },
   {
    "duration": 13,
    "start_time": "2022-03-14T14:41:29.402Z"
   },
   {
    "duration": 81,
    "start_time": "2022-03-14T14:43:48.417Z"
   },
   {
    "duration": 58,
    "start_time": "2022-03-14T14:43:52.733Z"
   },
   {
    "duration": 59,
    "start_time": "2022-03-14T14:45:36.769Z"
   },
   {
    "duration": 1359,
    "start_time": "2022-03-14T14:45:45.472Z"
   },
   {
    "duration": 649,
    "start_time": "2022-03-14T14:45:46.834Z"
   },
   {
    "duration": 36,
    "start_time": "2022-03-14T14:45:47.486Z"
   },
   {
    "duration": 60,
    "start_time": "2022-03-14T14:45:47.526Z"
   },
   {
    "duration": 15,
    "start_time": "2022-03-14T14:45:47.589Z"
   },
   {
    "duration": 15,
    "start_time": "2022-03-14T14:45:47.606Z"
   },
   {
    "duration": 599,
    "start_time": "2022-03-14T14:45:47.624Z"
   },
   {
    "duration": 671,
    "start_time": "2022-03-14T14:45:48.225Z"
   },
   {
    "duration": 643,
    "start_time": "2022-03-14T14:45:48.899Z"
   },
   {
    "duration": 21,
    "start_time": "2022-03-14T14:45:49.545Z"
   },
   {
    "duration": 796,
    "start_time": "2022-03-14T14:45:49.582Z"
   },
   {
    "duration": 616,
    "start_time": "2022-03-14T14:45:50.381Z"
   },
   {
    "duration": 15,
    "start_time": "2022-03-14T14:45:51.000Z"
   },
   {
    "duration": 785,
    "start_time": "2022-03-14T14:45:51.018Z"
   },
   {
    "duration": 209,
    "start_time": "2022-03-14T14:45:51.806Z"
   },
   {
    "duration": 821,
    "start_time": "2022-03-14T14:45:52.018Z"
   },
   {
    "duration": 6,
    "start_time": "2022-03-14T14:45:52.841Z"
   },
   {
    "duration": 33,
    "start_time": "2022-03-14T14:45:52.850Z"
   },
   {
    "duration": 6,
    "start_time": "2022-03-14T14:45:52.885Z"
   },
   {
    "duration": 936,
    "start_time": "2022-03-14T14:45:52.894Z"
   },
   {
    "duration": 5,
    "start_time": "2022-03-14T14:45:53.833Z"
   },
   {
    "duration": 10,
    "start_time": "2022-03-14T14:45:53.840Z"
   },
   {
    "duration": 476,
    "start_time": "2022-03-14T14:45:53.853Z"
   },
   {
    "duration": 212,
    "start_time": "2022-03-14T14:45:54.332Z"
   },
   {
    "duration": 9,
    "start_time": "2022-03-14T14:45:54.547Z"
   },
   {
    "duration": 36,
    "start_time": "2022-03-14T14:45:54.558Z"
   },
   {
    "duration": 13,
    "start_time": "2022-03-14T14:45:54.599Z"
   },
   {
    "duration": 13,
    "start_time": "2022-03-14T14:45:54.615Z"
   },
   {
    "duration": 7,
    "start_time": "2022-03-14T14:45:54.630Z"
   },
   {
    "duration": 50,
    "start_time": "2022-03-14T14:45:54.640Z"
   },
   {
    "duration": 60,
    "start_time": "2022-03-14T14:45:54.693Z"
   },
   {
    "duration": 785,
    "start_time": "2022-03-14T14:45:54.755Z"
   },
   {
    "duration": 819,
    "start_time": "2022-03-14T14:45:55.542Z"
   },
   {
    "duration": 1015,
    "start_time": "2022-03-15T04:03:23.889Z"
   },
   {
    "duration": 491,
    "start_time": "2022-03-15T04:03:24.906Z"
   },
   {
    "duration": 30,
    "start_time": "2022-03-15T04:03:25.400Z"
   },
   {
    "duration": 38,
    "start_time": "2022-03-15T04:03:25.433Z"
   },
   {
    "duration": 11,
    "start_time": "2022-03-15T04:03:25.472Z"
   },
   {
    "duration": 19,
    "start_time": "2022-03-15T04:03:25.485Z"
   },
   {
    "duration": 332,
    "start_time": "2022-03-15T04:03:25.506Z"
   },
   {
    "duration": 429,
    "start_time": "2022-03-15T04:03:25.841Z"
   },
   {
    "duration": 393,
    "start_time": "2022-03-15T04:03:26.272Z"
   },
   {
    "duration": 13,
    "start_time": "2022-03-15T04:03:26.667Z"
   },
   {
    "duration": 533,
    "start_time": "2022-03-15T04:03:26.681Z"
   },
   {
    "duration": 383,
    "start_time": "2022-03-15T04:03:27.216Z"
   },
   {
    "duration": 10,
    "start_time": "2022-03-15T04:03:27.600Z"
   },
   {
    "duration": 552,
    "start_time": "2022-03-15T04:03:27.612Z"
   },
   {
    "duration": 98,
    "start_time": "2022-03-15T04:03:28.165Z"
   },
   {
    "duration": 557,
    "start_time": "2022-03-15T04:03:28.265Z"
   },
   {
    "duration": 4,
    "start_time": "2022-03-15T04:03:28.824Z"
   },
   {
    "duration": 7,
    "start_time": "2022-03-15T04:03:28.838Z"
   },
   {
    "duration": 6,
    "start_time": "2022-03-15T04:03:28.847Z"
   },
   {
    "duration": 656,
    "start_time": "2022-03-15T04:03:28.855Z"
   },
   {
    "duration": 5,
    "start_time": "2022-03-15T04:03:29.513Z"
   },
   {
    "duration": 9,
    "start_time": "2022-03-15T04:03:29.520Z"
   },
   {
    "duration": 263,
    "start_time": "2022-03-15T04:03:29.539Z"
   },
   {
    "duration": 133,
    "start_time": "2022-03-15T04:03:29.804Z"
   },
   {
    "duration": 6,
    "start_time": "2022-03-15T04:03:29.939Z"
   },
   {
    "duration": 19,
    "start_time": "2022-03-15T04:03:29.946Z"
   },
   {
    "duration": 10,
    "start_time": "2022-03-15T04:03:29.967Z"
   },
   {
    "duration": 14,
    "start_time": "2022-03-15T04:03:29.979Z"
   },
   {
    "duration": 6,
    "start_time": "2022-03-15T04:03:29.994Z"
   },
   {
    "duration": 38,
    "start_time": "2022-03-15T04:03:30.001Z"
   },
   {
    "duration": 41,
    "start_time": "2022-03-15T04:03:30.041Z"
   },
   {
    "duration": 502,
    "start_time": "2022-03-15T04:03:30.083Z"
   },
   {
    "duration": 513,
    "start_time": "2022-03-15T04:03:30.587Z"
   },
   {
    "duration": 4,
    "start_time": "2022-03-15T04:18:17.968Z"
   },
   {
    "duration": 187,
    "start_time": "2022-03-15T07:03:33.542Z"
   },
   {
    "duration": 1068,
    "start_time": "2022-03-15T07:03:41.007Z"
   },
   {
    "duration": 288,
    "start_time": "2022-03-15T07:03:42.077Z"
   },
   {
    "duration": 56,
    "start_time": "2022-03-15T07:03:42.368Z"
   },
   {
    "duration": 35,
    "start_time": "2022-03-15T07:03:42.426Z"
   },
   {
    "duration": 9,
    "start_time": "2022-03-15T07:03:42.463Z"
   },
   {
    "duration": 12,
    "start_time": "2022-03-15T07:03:42.474Z"
   },
   {
    "duration": 346,
    "start_time": "2022-03-15T07:03:42.488Z"
   },
   {
    "duration": 436,
    "start_time": "2022-03-15T07:03:42.839Z"
   },
   {
    "duration": 403,
    "start_time": "2022-03-15T07:03:43.277Z"
   },
   {
    "duration": 14,
    "start_time": "2022-03-15T07:03:43.682Z"
   },
   {
    "duration": 596,
    "start_time": "2022-03-15T07:03:43.698Z"
   },
   {
    "duration": 390,
    "start_time": "2022-03-15T07:03:44.296Z"
   },
   {
    "duration": 12,
    "start_time": "2022-03-15T07:03:44.689Z"
   },
   {
    "duration": 570,
    "start_time": "2022-03-15T07:03:44.702Z"
   },
   {
    "duration": 111,
    "start_time": "2022-03-15T07:03:45.274Z"
   },
   {
    "duration": 548,
    "start_time": "2022-03-15T07:03:45.387Z"
   },
   {
    "duration": 5,
    "start_time": "2022-03-15T07:03:45.937Z"
   },
   {
    "duration": 16,
    "start_time": "2022-03-15T07:03:45.944Z"
   },
   {
    "duration": 15,
    "start_time": "2022-03-15T07:03:45.962Z"
   },
   {
    "duration": 654,
    "start_time": "2022-03-15T07:03:45.978Z"
   },
   {
    "duration": 5,
    "start_time": "2022-03-15T07:03:46.637Z"
   },
   {
    "duration": 7,
    "start_time": "2022-03-15T07:03:46.645Z"
   },
   {
    "duration": 268,
    "start_time": "2022-03-15T07:03:46.656Z"
   },
   {
    "duration": 129,
    "start_time": "2022-03-15T07:03:46.927Z"
   },
   {
    "duration": 6,
    "start_time": "2022-03-15T07:03:47.058Z"
   },
   {
    "duration": 17,
    "start_time": "2022-03-15T07:03:47.066Z"
   },
   {
    "duration": 10,
    "start_time": "2022-03-15T07:03:47.085Z"
   },
   {
    "duration": 12,
    "start_time": "2022-03-15T07:03:47.097Z"
   },
   {
    "duration": 29,
    "start_time": "2022-03-15T07:03:47.111Z"
   },
   {
    "duration": 13,
    "start_time": "2022-03-15T07:03:47.142Z"
   },
   {
    "duration": 58,
    "start_time": "2022-03-15T07:03:47.156Z"
   },
   {
    "duration": 490,
    "start_time": "2022-03-15T07:03:47.216Z"
   },
   {
    "duration": 515,
    "start_time": "2022-03-15T07:03:47.708Z"
   },
   {
    "duration": 12,
    "start_time": "2022-03-15T07:09:06.616Z"
   },
   {
    "duration": 223,
    "start_time": "2022-03-15T07:10:18.540Z"
   },
   {
    "duration": 144,
    "start_time": "2022-03-15T07:10:29.337Z"
   },
   {
    "duration": 154,
    "start_time": "2022-03-15T07:10:36.160Z"
   },
   {
    "duration": 27,
    "start_time": "2022-03-15T07:10:54.621Z"
   },
   {
    "duration": 39,
    "start_time": "2022-03-15T07:11:46.629Z"
   },
   {
    "duration": 23,
    "start_time": "2022-03-15T07:11:52.957Z"
   },
   {
    "duration": 35,
    "start_time": "2022-03-15T07:12:07.857Z"
   },
   {
    "duration": 58,
    "start_time": "2022-03-15T07:13:20.571Z"
   },
   {
    "duration": 40,
    "start_time": "2022-03-15T07:13:36.261Z"
   },
   {
    "duration": 3370,
    "start_time": "2022-03-15T07:13:48.238Z"
   },
   {
    "duration": 3438,
    "start_time": "2022-03-15T07:13:56.558Z"
   },
   {
    "duration": 3715,
    "start_time": "2022-03-15T07:14:00.841Z"
   },
   {
    "duration": 23,
    "start_time": "2022-03-15T07:14:22.735Z"
   },
   {
    "duration": 20,
    "start_time": "2022-03-15T07:14:51.572Z"
   },
   {
    "duration": 19,
    "start_time": "2022-03-15T07:14:56.213Z"
   },
   {
    "duration": 25,
    "start_time": "2022-03-15T07:15:38.295Z"
   },
   {
    "duration": 19,
    "start_time": "2022-03-15T07:15:57.345Z"
   },
   {
    "duration": 20,
    "start_time": "2022-03-15T07:20:30.113Z"
   },
   {
    "duration": 22,
    "start_time": "2022-03-15T07:21:26.320Z"
   },
   {
    "duration": 11,
    "start_time": "2022-03-15T07:21:36.133Z"
   },
   {
    "duration": 24,
    "start_time": "2022-03-15T07:22:17.642Z"
   },
   {
    "duration": 161,
    "start_time": "2022-03-15T07:23:30.238Z"
   },
   {
    "duration": 160,
    "start_time": "2022-03-15T07:23:48.896Z"
   },
   {
    "duration": 22,
    "start_time": "2022-03-15T07:24:43.903Z"
   },
   {
    "duration": 27,
    "start_time": "2022-03-15T07:25:07.168Z"
   },
   {
    "duration": 44,
    "start_time": "2022-03-15T07:25:33.100Z"
   },
   {
    "duration": 28,
    "start_time": "2022-03-15T07:25:39.976Z"
   },
   {
    "duration": 12,
    "start_time": "2022-03-15T07:28:15.118Z"
   },
   {
    "duration": 10,
    "start_time": "2022-03-15T07:29:03.986Z"
   },
   {
    "duration": 11,
    "start_time": "2022-03-15T07:29:13.044Z"
   },
   {
    "duration": 12,
    "start_time": "2022-03-15T07:29:27.326Z"
   },
   {
    "duration": 23,
    "start_time": "2022-03-15T07:32:27.883Z"
   },
   {
    "duration": 9,
    "start_time": "2022-03-15T07:32:38.072Z"
   },
   {
    "duration": 29,
    "start_time": "2022-03-15T07:32:55.115Z"
   },
   {
    "duration": 69,
    "start_time": "2022-03-15T07:33:45.343Z"
   },
   {
    "duration": 6,
    "start_time": "2022-03-15T07:34:14.574Z"
   },
   {
    "duration": 6,
    "start_time": "2022-03-15T07:34:19.748Z"
   },
   {
    "duration": 128,
    "start_time": "2022-03-15T07:34:59.267Z"
   },
   {
    "duration": 130,
    "start_time": "2022-03-15T07:35:03.903Z"
   },
   {
    "duration": 7,
    "start_time": "2022-03-15T07:35:11.304Z"
   },
   {
    "duration": 7,
    "start_time": "2022-03-15T07:35:41.140Z"
   },
   {
    "duration": 8,
    "start_time": "2022-03-15T07:39:35.512Z"
   },
   {
    "duration": 133,
    "start_time": "2022-03-15T07:43:23.365Z"
   },
   {
    "duration": 8,
    "start_time": "2022-03-15T07:43:45.922Z"
   },
   {
    "duration": 997,
    "start_time": "2022-03-15T07:44:37.203Z"
   },
   {
    "duration": 276,
    "start_time": "2022-03-15T07:44:38.202Z"
   },
   {
    "duration": 55,
    "start_time": "2022-03-15T07:44:38.480Z"
   },
   {
    "duration": 35,
    "start_time": "2022-03-15T07:44:38.536Z"
   },
   {
    "duration": 8,
    "start_time": "2022-03-15T07:44:38.572Z"
   },
   {
    "duration": 10,
    "start_time": "2022-03-15T07:44:38.582Z"
   },
   {
    "duration": 203,
    "start_time": "2022-03-15T07:44:38.594Z"
   },
   {
    "duration": 230,
    "start_time": "2022-03-15T07:44:38.570Z"
   },
   {
    "duration": 227,
    "start_time": "2022-03-15T07:44:38.574Z"
   },
   {
    "duration": 225,
    "start_time": "2022-03-15T07:44:38.578Z"
   },
   {
    "duration": 221,
    "start_time": "2022-03-15T07:44:38.583Z"
   },
   {
    "duration": 220,
    "start_time": "2022-03-15T07:44:38.585Z"
   },
   {
    "duration": 218,
    "start_time": "2022-03-15T07:44:38.588Z"
   },
   {
    "duration": 216,
    "start_time": "2022-03-15T07:44:38.591Z"
   },
   {
    "duration": 214,
    "start_time": "2022-03-15T07:44:38.594Z"
   },
   {
    "duration": 213,
    "start_time": "2022-03-15T07:44:38.596Z"
   },
   {
    "duration": 211,
    "start_time": "2022-03-15T07:44:38.599Z"
   },
   {
    "duration": 210,
    "start_time": "2022-03-15T07:44:38.601Z"
   },
   {
    "duration": 208,
    "start_time": "2022-03-15T07:44:38.604Z"
   },
   {
    "duration": 207,
    "start_time": "2022-03-15T07:44:38.606Z"
   },
   {
    "duration": 205,
    "start_time": "2022-03-15T07:44:38.609Z"
   },
   {
    "duration": 199,
    "start_time": "2022-03-15T07:44:38.616Z"
   },
   {
    "duration": 197,
    "start_time": "2022-03-15T07:44:38.619Z"
   },
   {
    "duration": 196,
    "start_time": "2022-03-15T07:44:38.621Z"
   },
   {
    "duration": 194,
    "start_time": "2022-03-15T07:44:38.624Z"
   },
   {
    "duration": 193,
    "start_time": "2022-03-15T07:44:38.626Z"
   },
   {
    "duration": 192,
    "start_time": "2022-03-15T07:44:38.628Z"
   },
   {
    "duration": 191,
    "start_time": "2022-03-15T07:44:38.630Z"
   },
   {
    "duration": 189,
    "start_time": "2022-03-15T07:44:38.633Z"
   },
   {
    "duration": 188,
    "start_time": "2022-03-15T07:44:38.635Z"
   },
   {
    "duration": 187,
    "start_time": "2022-03-15T07:44:38.637Z"
   },
   {
    "duration": 186,
    "start_time": "2022-03-15T07:44:38.639Z"
   },
   {
    "duration": 185,
    "start_time": "2022-03-15T07:44:38.641Z"
   },
   {
    "duration": 184,
    "start_time": "2022-03-15T07:44:38.643Z"
   },
   {
    "duration": 183,
    "start_time": "2022-03-15T07:44:38.645Z"
   },
   {
    "duration": 182,
    "start_time": "2022-03-15T07:44:38.647Z"
   },
   {
    "duration": 181,
    "start_time": "2022-03-15T07:44:38.649Z"
   },
   {
    "duration": 180,
    "start_time": "2022-03-15T07:44:38.651Z"
   },
   {
    "duration": 1088,
    "start_time": "2022-03-15T07:45:19.708Z"
   },
   {
    "duration": 299,
    "start_time": "2022-03-15T07:45:20.798Z"
   },
   {
    "duration": 35,
    "start_time": "2022-03-15T07:45:21.099Z"
   },
   {
    "duration": 35,
    "start_time": "2022-03-15T07:45:21.136Z"
   },
   {
    "duration": 8,
    "start_time": "2022-03-15T07:45:21.173Z"
   },
   {
    "duration": 10,
    "start_time": "2022-03-15T07:45:21.183Z"
   },
   {
    "duration": 31,
    "start_time": "2022-03-15T07:45:21.195Z"
   },
   {
    "duration": 10,
    "start_time": "2022-03-15T07:45:21.228Z"
   },
   {
    "duration": 10,
    "start_time": "2022-03-15T07:45:21.240Z"
   },
   {
    "duration": 10,
    "start_time": "2022-03-15T07:45:21.251Z"
   },
   {
    "duration": 341,
    "start_time": "2022-03-15T07:45:21.263Z"
   },
   {
    "duration": 608,
    "start_time": "2022-03-15T07:45:21.606Z"
   },
   {
    "duration": 414,
    "start_time": "2022-03-15T07:45:22.216Z"
   },
   {
    "duration": 19,
    "start_time": "2022-03-15T07:45:22.632Z"
   },
   {
    "duration": 571,
    "start_time": "2022-03-15T07:45:22.653Z"
   },
   {
    "duration": 385,
    "start_time": "2022-03-15T07:45:23.226Z"
   },
   {
    "duration": 10,
    "start_time": "2022-03-15T07:45:23.612Z"
   },
   {
    "duration": 520,
    "start_time": "2022-03-15T07:45:23.624Z"
   },
   {
    "duration": 129,
    "start_time": "2022-03-15T07:45:24.146Z"
   },
   {
    "duration": 568,
    "start_time": "2022-03-15T07:45:24.277Z"
   },
   {
    "duration": 4,
    "start_time": "2022-03-15T07:45:24.847Z"
   },
   {
    "duration": 10,
    "start_time": "2022-03-15T07:45:24.853Z"
   },
   {
    "duration": 4,
    "start_time": "2022-03-15T07:45:24.866Z"
   },
   {
    "duration": 658,
    "start_time": "2022-03-15T07:45:24.872Z"
   },
   {
    "duration": 8,
    "start_time": "2022-03-15T07:45:25.532Z"
   },
   {
    "duration": 7,
    "start_time": "2022-03-15T07:45:25.542Z"
   },
   {
    "duration": 301,
    "start_time": "2022-03-15T07:45:25.550Z"
   },
   {
    "duration": 135,
    "start_time": "2022-03-15T07:45:25.853Z"
   },
   {
    "duration": 6,
    "start_time": "2022-03-15T07:45:25.990Z"
   },
   {
    "duration": 28,
    "start_time": "2022-03-15T07:45:25.998Z"
   },
   {
    "duration": 10,
    "start_time": "2022-03-15T07:45:26.038Z"
   },
   {
    "duration": 18,
    "start_time": "2022-03-15T07:45:26.050Z"
   },
   {
    "duration": 11,
    "start_time": "2022-03-15T07:45:26.070Z"
   },
   {
    "duration": 16,
    "start_time": "2022-03-15T07:45:26.083Z"
   },
   {
    "duration": 61,
    "start_time": "2022-03-15T07:45:26.101Z"
   },
   {
    "duration": 490,
    "start_time": "2022-03-15T07:45:26.164Z"
   },
   {
    "duration": 490,
    "start_time": "2022-03-15T07:45:26.656Z"
   },
   {
    "duration": 3,
    "start_time": "2022-03-15T08:33:28.427Z"
   },
   {
    "duration": 1053,
    "start_time": "2022-03-15T08:36:12.275Z"
   },
   {
    "duration": 315,
    "start_time": "2022-03-15T08:36:13.330Z"
   },
   {
    "duration": 33,
    "start_time": "2022-03-15T08:36:13.648Z"
   },
   {
    "duration": 37,
    "start_time": "2022-03-15T08:36:13.683Z"
   },
   {
    "duration": 16,
    "start_time": "2022-03-15T08:36:13.722Z"
   },
   {
    "duration": 11,
    "start_time": "2022-03-15T08:36:13.741Z"
   },
   {
    "duration": 34,
    "start_time": "2022-03-15T08:36:13.754Z"
   },
   {
    "duration": 6,
    "start_time": "2022-03-15T08:36:13.790Z"
   },
   {
    "duration": 8,
    "start_time": "2022-03-15T08:36:13.798Z"
   },
   {
    "duration": 34,
    "start_time": "2022-03-15T08:36:13.808Z"
   },
   {
    "duration": 370,
    "start_time": "2022-03-15T08:36:13.845Z"
   },
   {
    "duration": 472,
    "start_time": "2022-03-15T08:36:14.217Z"
   },
   {
    "duration": 473,
    "start_time": "2022-03-15T08:36:14.691Z"
   },
   {
    "duration": 14,
    "start_time": "2022-03-15T08:36:15.165Z"
   },
   {
    "duration": 596,
    "start_time": "2022-03-15T08:36:15.181Z"
   },
   {
    "duration": 417,
    "start_time": "2022-03-15T08:36:15.779Z"
   },
   {
    "duration": 11,
    "start_time": "2022-03-15T08:36:16.198Z"
   },
   {
    "duration": 567,
    "start_time": "2022-03-15T08:36:16.210Z"
   },
   {
    "duration": 113,
    "start_time": "2022-03-15T08:36:16.778Z"
   },
   {
    "duration": 579,
    "start_time": "2022-03-15T08:36:16.892Z"
   },
   {
    "duration": 5,
    "start_time": "2022-03-15T08:36:17.472Z"
   },
   {
    "duration": 11,
    "start_time": "2022-03-15T08:36:17.479Z"
   },
   {
    "duration": 3,
    "start_time": "2022-03-15T08:36:17.493Z"
   },
   {
    "duration": 693,
    "start_time": "2022-03-15T08:36:17.498Z"
   },
   {
    "duration": 4,
    "start_time": "2022-03-15T08:36:18.193Z"
   },
   {
    "duration": 9,
    "start_time": "2022-03-15T08:36:18.199Z"
   },
   {
    "duration": 280,
    "start_time": "2022-03-15T08:36:18.210Z"
   },
   {
    "duration": 159,
    "start_time": "2022-03-15T08:36:18.492Z"
   },
   {
    "duration": 6,
    "start_time": "2022-03-15T08:36:18.653Z"
   },
   {
    "duration": 20,
    "start_time": "2022-03-15T08:36:18.660Z"
   },
   {
    "duration": 10,
    "start_time": "2022-03-15T08:36:18.682Z"
   },
   {
    "duration": 11,
    "start_time": "2022-03-15T08:36:18.693Z"
   },
   {
    "duration": 6,
    "start_time": "2022-03-15T08:36:18.706Z"
   },
   {
    "duration": 39,
    "start_time": "2022-03-15T08:36:18.714Z"
   },
   {
    "duration": 40,
    "start_time": "2022-03-15T08:36:18.755Z"
   },
   {
    "duration": 507,
    "start_time": "2022-03-15T08:36:18.797Z"
   },
   {
    "duration": 528,
    "start_time": "2022-03-15T08:36:19.305Z"
   },
   {
    "duration": 47,
    "start_time": "2022-03-15T08:41:25.792Z"
   },
   {
    "duration": 44,
    "start_time": "2022-03-15T08:41:31.267Z"
   },
   {
    "duration": 515,
    "start_time": "2022-03-15T09:11:57.151Z"
   },
   {
    "duration": 991,
    "start_time": "2022-03-15T09:16:38.119Z"
   },
   {
    "duration": 317,
    "start_time": "2022-03-15T09:16:39.111Z"
   },
   {
    "duration": 30,
    "start_time": "2022-03-15T09:16:39.430Z"
   },
   {
    "duration": 35,
    "start_time": "2022-03-15T09:16:39.462Z"
   },
   {
    "duration": 8,
    "start_time": "2022-03-15T09:16:39.499Z"
   },
   {
    "duration": 9,
    "start_time": "2022-03-15T09:16:39.509Z"
   },
   {
    "duration": 41,
    "start_time": "2022-03-15T09:16:39.520Z"
   },
   {
    "duration": 6,
    "start_time": "2022-03-15T09:16:39.563Z"
   },
   {
    "duration": 10,
    "start_time": "2022-03-15T09:16:39.571Z"
   },
   {
    "duration": 10,
    "start_time": "2022-03-15T09:16:39.583Z"
   },
   {
    "duration": 362,
    "start_time": "2022-03-15T09:16:39.594Z"
   },
   {
    "duration": 448,
    "start_time": "2022-03-15T09:16:39.958Z"
   },
   {
    "duration": 421,
    "start_time": "2022-03-15T09:16:40.409Z"
   },
   {
    "duration": 19,
    "start_time": "2022-03-15T09:16:40.832Z"
   },
   {
    "duration": 550,
    "start_time": "2022-03-15T09:16:40.852Z"
   },
   {
    "duration": 385,
    "start_time": "2022-03-15T09:16:41.404Z"
   },
   {
    "duration": 10,
    "start_time": "2022-03-15T09:16:41.791Z"
   },
   {
    "duration": 538,
    "start_time": "2022-03-15T09:16:41.802Z"
   },
   {
    "duration": 117,
    "start_time": "2022-03-15T09:16:42.342Z"
   },
   {
    "duration": 570,
    "start_time": "2022-03-15T09:16:42.460Z"
   },
   {
    "duration": 7,
    "start_time": "2022-03-15T09:16:43.031Z"
   },
   {
    "duration": 11,
    "start_time": "2022-03-15T09:16:43.040Z"
   },
   {
    "duration": 2,
    "start_time": "2022-03-15T09:16:43.054Z"
   },
   {
    "duration": 657,
    "start_time": "2022-03-15T09:16:43.058Z"
   },
   {
    "duration": 4,
    "start_time": "2022-03-15T09:16:43.717Z"
   },
   {
    "duration": 16,
    "start_time": "2022-03-15T09:16:43.723Z"
   },
   {
    "duration": 259,
    "start_time": "2022-03-15T09:16:43.740Z"
   },
   {
    "duration": 115,
    "start_time": "2022-03-15T09:16:44.001Z"
   },
   {
    "duration": 22,
    "start_time": "2022-03-15T09:16:44.118Z"
   },
   {
    "duration": 26,
    "start_time": "2022-03-15T09:16:44.142Z"
   },
   {
    "duration": 9,
    "start_time": "2022-03-15T09:16:44.170Z"
   },
   {
    "duration": 16,
    "start_time": "2022-03-15T09:16:44.181Z"
   },
   {
    "duration": 8,
    "start_time": "2022-03-15T09:16:44.199Z"
   },
   {
    "duration": 12,
    "start_time": "2022-03-15T09:16:44.209Z"
   },
   {
    "duration": 48,
    "start_time": "2022-03-15T09:16:44.223Z"
   },
   {
    "duration": 510,
    "start_time": "2022-03-15T09:16:44.273Z"
   },
   {
    "duration": 548,
    "start_time": "2022-03-15T09:16:44.786Z"
   },
   {
    "duration": 1336,
    "start_time": "2022-03-16T03:29:22.700Z"
   },
   {
    "duration": 750,
    "start_time": "2022-03-16T03:29:24.040Z"
   },
   {
    "duration": 30,
    "start_time": "2022-03-16T03:29:24.793Z"
   },
   {
    "duration": 75,
    "start_time": "2022-03-16T03:29:24.825Z"
   },
   {
    "duration": 17,
    "start_time": "2022-03-16T03:29:24.903Z"
   },
   {
    "duration": 33,
    "start_time": "2022-03-16T03:29:24.923Z"
   },
   {
    "duration": 56,
    "start_time": "2022-03-16T03:29:24.960Z"
   },
   {
    "duration": 6,
    "start_time": "2022-03-16T03:29:25.020Z"
   },
   {
    "duration": 27,
    "start_time": "2022-03-16T03:29:25.029Z"
   },
   {
    "duration": 26,
    "start_time": "2022-03-16T03:29:25.059Z"
   },
   {
    "duration": 543,
    "start_time": "2022-03-16T03:29:25.087Z"
   },
   {
    "duration": 674,
    "start_time": "2022-03-16T03:29:25.632Z"
   },
   {
    "duration": 634,
    "start_time": "2022-03-16T03:29:26.308Z"
   },
   {
    "duration": 20,
    "start_time": "2022-03-16T03:29:26.944Z"
   },
   {
    "duration": 783,
    "start_time": "2022-03-16T03:29:26.982Z"
   },
   {
    "duration": 608,
    "start_time": "2022-03-16T03:29:27.767Z"
   },
   {
    "duration": 14,
    "start_time": "2022-03-16T03:29:28.381Z"
   },
   {
    "duration": 718,
    "start_time": "2022-03-16T03:29:28.397Z"
   },
   {
    "duration": 185,
    "start_time": "2022-03-16T03:29:29.118Z"
   },
   {
    "duration": 927,
    "start_time": "2022-03-16T03:29:29.306Z"
   },
   {
    "duration": 7,
    "start_time": "2022-03-16T03:29:30.236Z"
   },
   {
    "duration": 35,
    "start_time": "2022-03-16T03:29:30.248Z"
   },
   {
    "duration": 3,
    "start_time": "2022-03-16T03:29:30.286Z"
   },
   {
    "duration": 837,
    "start_time": "2022-03-16T03:29:30.292Z"
   },
   {
    "duration": 5,
    "start_time": "2022-03-16T03:29:31.132Z"
   },
   {
    "duration": 17,
    "start_time": "2022-03-16T03:29:31.140Z"
   },
   {
    "duration": 455,
    "start_time": "2022-03-16T03:29:31.159Z"
   },
   {
    "duration": 225,
    "start_time": "2022-03-16T03:29:31.617Z"
   },
   {
    "duration": 9,
    "start_time": "2022-03-16T03:29:31.845Z"
   },
   {
    "duration": 36,
    "start_time": "2022-03-16T03:29:31.856Z"
   },
   {
    "duration": 14,
    "start_time": "2022-03-16T03:29:31.895Z"
   },
   {
    "duration": 14,
    "start_time": "2022-03-16T03:29:31.912Z"
   },
   {
    "duration": 9,
    "start_time": "2022-03-16T03:29:31.929Z"
   },
   {
    "duration": 56,
    "start_time": "2022-03-16T03:29:31.941Z"
   },
   {
    "duration": 58,
    "start_time": "2022-03-16T03:29:32.000Z"
   },
   {
    "duration": 781,
    "start_time": "2022-03-16T03:29:32.083Z"
   },
   {
    "duration": 802,
    "start_time": "2022-03-16T03:29:32.866Z"
   },
   {
    "duration": 1160,
    "start_time": "2022-06-13T16:26:21.842Z"
   },
   {
    "duration": 118,
    "start_time": "2022-06-13T16:26:23.004Z"
   },
   {
    "duration": 119,
    "start_time": "2022-06-13T16:26:23.124Z"
   },
   {
    "duration": 53,
    "start_time": "2022-06-13T16:26:23.245Z"
   },
   {
    "duration": 7,
    "start_time": "2022-06-13T16:26:23.300Z"
   },
   {
    "duration": 10,
    "start_time": "2022-06-13T16:26:23.309Z"
   },
   {
    "duration": 23,
    "start_time": "2022-06-13T16:26:23.321Z"
   },
   {
    "duration": 5,
    "start_time": "2022-06-13T16:26:23.346Z"
   },
   {
    "duration": 10,
    "start_time": "2022-06-13T16:26:23.352Z"
   },
   {
    "duration": 29,
    "start_time": "2022-06-13T16:26:23.364Z"
   },
   {
    "duration": 279,
    "start_time": "2022-06-13T16:26:23.395Z"
   },
   {
    "duration": 332,
    "start_time": "2022-06-13T16:26:23.676Z"
   },
   {
    "duration": 268,
    "start_time": "2022-06-13T16:26:24.009Z"
   },
   {
    "duration": 11,
    "start_time": "2022-06-13T16:26:24.279Z"
   },
   {
    "duration": 378,
    "start_time": "2022-06-13T16:26:24.291Z"
   },
   {
    "duration": 225,
    "start_time": "2022-06-13T16:26:24.670Z"
   },
   {
    "duration": 11,
    "start_time": "2022-06-13T16:26:24.896Z"
   },
   {
    "duration": 364,
    "start_time": "2022-06-13T16:26:24.910Z"
   },
   {
    "duration": 131,
    "start_time": "2022-06-13T16:26:25.276Z"
   },
   {
    "duration": 254,
    "start_time": "2022-06-13T16:26:25.409Z"
   },
   {
    "duration": 4,
    "start_time": "2022-06-13T16:26:25.664Z"
   },
   {
    "duration": 100,
    "start_time": "2022-06-13T16:26:25.669Z"
   },
   {
    "duration": 0,
    "start_time": "2022-06-13T16:26:25.770Z"
   },
   {
    "duration": 0,
    "start_time": "2022-06-13T16:26:25.772Z"
   },
   {
    "duration": 0,
    "start_time": "2022-06-13T16:26:25.773Z"
   },
   {
    "duration": 1,
    "start_time": "2022-06-13T16:26:25.774Z"
   },
   {
    "duration": 0,
    "start_time": "2022-06-13T16:26:25.776Z"
   },
   {
    "duration": 0,
    "start_time": "2022-06-13T16:26:25.777Z"
   },
   {
    "duration": 0,
    "start_time": "2022-06-13T16:26:25.791Z"
   },
   {
    "duration": 0,
    "start_time": "2022-06-13T16:26:25.793Z"
   },
   {
    "duration": 0,
    "start_time": "2022-06-13T16:26:25.794Z"
   },
   {
    "duration": 0,
    "start_time": "2022-06-13T16:26:25.796Z"
   },
   {
    "duration": 0,
    "start_time": "2022-06-13T16:26:25.797Z"
   },
   {
    "duration": 0,
    "start_time": "2022-06-13T16:26:25.798Z"
   },
   {
    "duration": 0,
    "start_time": "2022-06-13T16:26:25.799Z"
   },
   {
    "duration": 0,
    "start_time": "2022-06-13T16:26:25.800Z"
   },
   {
    "duration": 0,
    "start_time": "2022-06-13T16:26:25.802Z"
   },
   {
    "duration": 972,
    "start_time": "2022-06-13T16:28:02.878Z"
   },
   {
    "duration": 84,
    "start_time": "2022-06-13T16:28:03.852Z"
   },
   {
    "duration": 47,
    "start_time": "2022-06-13T16:28:03.940Z"
   },
   {
    "duration": 44,
    "start_time": "2022-06-13T16:28:03.989Z"
   },
   {
    "duration": 11,
    "start_time": "2022-06-13T16:28:04.035Z"
   },
   {
    "duration": 14,
    "start_time": "2022-06-13T16:28:04.048Z"
   },
   {
    "duration": 47,
    "start_time": "2022-06-13T16:28:04.064Z"
   },
   {
    "duration": 6,
    "start_time": "2022-06-13T16:28:04.113Z"
   },
   {
    "duration": 12,
    "start_time": "2022-06-13T16:28:04.121Z"
   },
   {
    "duration": 9,
    "start_time": "2022-06-13T16:28:04.134Z"
   },
   {
    "duration": 346,
    "start_time": "2022-06-13T16:28:04.145Z"
   },
   {
    "duration": 332,
    "start_time": "2022-06-13T16:28:04.493Z"
   },
   {
    "duration": 271,
    "start_time": "2022-06-13T16:28:04.826Z"
   },
   {
    "duration": 12,
    "start_time": "2022-06-13T16:28:05.098Z"
   },
   {
    "duration": 325,
    "start_time": "2022-06-13T16:28:05.111Z"
   },
   {
    "duration": 255,
    "start_time": "2022-06-13T16:28:05.438Z"
   },
   {
    "duration": 9,
    "start_time": "2022-06-13T16:28:05.695Z"
   },
   {
    "duration": 397,
    "start_time": "2022-06-13T16:28:05.706Z"
   },
   {
    "duration": 126,
    "start_time": "2022-06-13T16:28:06.105Z"
   },
   {
    "duration": 218,
    "start_time": "2022-06-13T16:28:06.234Z"
   },
   {
    "duration": 4,
    "start_time": "2022-06-13T16:28:06.454Z"
   },
   {
    "duration": 110,
    "start_time": "2022-06-13T16:28:06.460Z"
   },
   {
    "duration": 0,
    "start_time": "2022-06-13T16:28:06.572Z"
   },
   {
    "duration": 0,
    "start_time": "2022-06-13T16:28:06.574Z"
   },
   {
    "duration": 0,
    "start_time": "2022-06-13T16:28:06.574Z"
   },
   {
    "duration": 0,
    "start_time": "2022-06-13T16:28:06.575Z"
   },
   {
    "duration": 0,
    "start_time": "2022-06-13T16:28:06.576Z"
   },
   {
    "duration": 0,
    "start_time": "2022-06-13T16:28:06.577Z"
   },
   {
    "duration": 0,
    "start_time": "2022-06-13T16:28:06.578Z"
   },
   {
    "duration": 0,
    "start_time": "2022-06-13T16:28:06.579Z"
   },
   {
    "duration": 0,
    "start_time": "2022-06-13T16:28:06.580Z"
   },
   {
    "duration": 0,
    "start_time": "2022-06-13T16:28:06.591Z"
   },
   {
    "duration": 0,
    "start_time": "2022-06-13T16:28:06.592Z"
   },
   {
    "duration": 0,
    "start_time": "2022-06-13T16:28:06.593Z"
   },
   {
    "duration": 0,
    "start_time": "2022-06-13T16:28:06.594Z"
   },
   {
    "duration": 0,
    "start_time": "2022-06-13T16:28:06.595Z"
   },
   {
    "duration": 0,
    "start_time": "2022-06-13T16:28:06.596Z"
   },
   {
    "duration": 5,
    "start_time": "2022-06-13T16:28:45.663Z"
   },
   {
    "duration": 7,
    "start_time": "2022-06-13T16:28:50.891Z"
   },
   {
    "duration": 13,
    "start_time": "2022-06-13T16:29:09.061Z"
   },
   {
    "duration": 15,
    "start_time": "2022-06-13T16:30:01.244Z"
   },
   {
    "duration": 10,
    "start_time": "2022-06-13T16:30:09.032Z"
   },
   {
    "duration": 9,
    "start_time": "2022-06-13T16:30:18.964Z"
   },
   {
    "duration": 12,
    "start_time": "2022-06-13T16:30:45.693Z"
   },
   {
    "duration": 10,
    "start_time": "2022-06-13T16:31:00.641Z"
   },
   {
    "duration": 10,
    "start_time": "2022-06-13T16:31:09.504Z"
   },
   {
    "duration": 11,
    "start_time": "2022-06-13T16:31:15.398Z"
   },
   {
    "duration": 7,
    "start_time": "2022-06-13T16:31:15.411Z"
   },
   {
    "duration": 281,
    "start_time": "2022-06-13T16:31:15.420Z"
   },
   {
    "duration": 5,
    "start_time": "2022-06-13T16:31:15.703Z"
   },
   {
    "duration": 11,
    "start_time": "2022-06-13T16:31:15.711Z"
   },
   {
    "duration": 252,
    "start_time": "2022-06-13T16:31:15.726Z"
   },
   {
    "duration": 180,
    "start_time": "2022-06-13T16:31:15.979Z"
   },
   {
    "duration": 5,
    "start_time": "2022-06-13T16:31:16.160Z"
   },
   {
    "duration": 42,
    "start_time": "2022-06-13T16:31:16.167Z"
   },
   {
    "duration": 16,
    "start_time": "2022-06-13T16:31:16.211Z"
   },
   {
    "duration": 17,
    "start_time": "2022-06-13T16:31:16.239Z"
   },
   {
    "duration": 8,
    "start_time": "2022-06-13T16:31:16.258Z"
   },
   {
    "duration": 22,
    "start_time": "2022-06-13T16:31:16.268Z"
   },
   {
    "duration": 54,
    "start_time": "2022-06-13T16:31:16.293Z"
   },
   {
    "duration": 374,
    "start_time": "2022-06-13T16:31:16.349Z"
   },
   {
    "duration": 332,
    "start_time": "2022-06-13T16:31:16.725Z"
   }
  ],
  "kernelspec": {
   "display_name": "Python 3 (ipykernel)",
   "language": "python",
   "name": "python3"
  },
  "language_info": {
   "codemirror_mode": {
    "name": "ipython",
    "version": 3
   },
   "file_extension": ".py",
   "mimetype": "text/x-python",
   "name": "python",
   "nbconvert_exporter": "python",
   "pygments_lexer": "ipython3",
   "version": "3.9.5"
  },
  "toc": {
   "base_numbering": 1,
   "nav_menu": {},
   "number_sections": true,
   "sideBar": true,
   "skip_h1_title": true,
   "title_cell": "Table of Contents",
   "title_sidebar": "Contents",
   "toc_cell": false,
   "toc_position": {},
   "toc_section_display": true,
   "toc_window_display": true
  }
 },
 "nbformat": 4,
 "nbformat_minor": 2
}
